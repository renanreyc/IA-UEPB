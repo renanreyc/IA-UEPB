{
  "nbformat": 4,
  "nbformat_minor": 0,
  "metadata": {
    "kernelspec": {
      "display_name": "Python 3",
      "language": "python",
      "name": "python3"
    },
    "language_info": {
      "codemirror_mode": {
        "name": "ipython",
        "version": 3
      },
      "file_extension": ".py",
      "mimetype": "text/x-python",
      "name": "python",
      "nbconvert_exporter": "python",
      "pygments_lexer": "ipython3",
      "version": "3.7.7"
    },
    "colab": {
      "name": "RENAN REY COSTA RODRIGUES - Aula Estudo de Caso Titanic 2022.1.ipynb",
      "provenance": [],
      "collapsed_sections": [
        "rN0EEwJDESWt",
        "ctOgu0gRTOTb",
        "e56loyNhGzUp"
      ],
      "include_colab_link": true
    }
  },
  "cells": [
    {
      "cell_type": "markdown",
      "metadata": {
        "id": "view-in-github",
        "colab_type": "text"
      },
      "source": [
        "<a href=\"https://colab.research.google.com/github/renanreyc/IA-UEPB/blob/main/Aula_Estudo_de_Caso_Titanic_2022_1.ipynb\" target=\"_parent\"><img src=\"https://colab.research.google.com/assets/colab-badge.svg\" alt=\"Open In Colab\"/></a>"
      ]
    },
    {
      "cell_type": "markdown",
      "metadata": {
        "id": "LAFajM0xESOp"
      },
      "source": [
        "## Problema de predição de sobreviventes do Titanic"
      ]
    },
    {
      "cell_type": "code",
      "source": [
        "# instale e importe o pandas-profiling\n",
        "from pandas_profiling import ProfileReport\n",
        "\n",
        "# kaggle.com/c/titanic/data"
      ],
      "metadata": {
        "id": "dnXRKsZ0eI3_"
      },
      "execution_count": 2,
      "outputs": []
    },
    {
      "cell_type": "markdown",
      "metadata": {
        "id": "DpquV89OESOt"
      },
      "source": [
        "Quando o Titanic afundou, 1502 dos 2224 passageiros e tripulantes morreram. Uma das principais razões para esta grande quantidade de baixas foi a falta de botes salva-vidas neste autoproclamado navio \"inafundável\".\n",
        "\n",
        "Aqueles que assistiram ao filme sabem que alguns indivíduos eram mais propensos a sobreviver ao naufrágio (Rose sortuda) do que outros (o pobre Jack). Neste curso, você aprenderá como aplicar técnicas de aprendizado de máquina para prever as chances de um passageiro sobreviver usando o Python.\n",
        "\n",
        "Vamos começar carregando o conjunto de treinamento e testes em seu ambiente Python. Você usará o conjunto de treinamento para criar seu modelo e o conjunto de testes para validá-lo. Os dados são armazenados na web como `arquivos csv`; suas URLs já estão disponíveis como sequências de caracteres no código de amostra. Você pode carregar estes dados com o método `read_csv()` da biblioteca Pandas."
      ]
    },
    {
      "cell_type": "code",
      "metadata": {
        "id": "t0DlhodHESOy"
      },
      "source": [
        "# Importando a biblioteca Pandas\n",
        "import pandas as pd"
      ],
      "execution_count": 4,
      "outputs": []
    },
    {
      "cell_type": "code",
      "metadata": {
        "id": "DquuthNUESPL",
        "colab": {
          "base_uri": "https://localhost:8080/"
        },
        "outputId": "7ac7e10b-0593-4aff-cd21-ad55504918a1"
      },
      "source": [
        "# Carregando os conjuntos de treino e teste para criar dois DataFrames\n",
        "train_url = \"http://s3.amazonaws.com/assets.datacamp.com/course/Kaggle/train.csv\"\n",
        "train = pd.read_csv(train_url)\n",
        "\n",
        "test_url = \"http://s3.amazonaws.com/assets.datacamp.com/course/Kaggle/test.csv\"\n",
        "test = pd.read_csv(test_url)\n",
        "\n",
        "# Imprimindo as primeiras linhas dos conjuntos de teste e treino do dataframe\n",
        "print(train.head(3))\n",
        "print(\"\\n#############################\\n\")\n",
        "print(test.head(3))"
      ],
      "execution_count": 5,
      "outputs": [
        {
          "output_type": "stream",
          "name": "stdout",
          "text": [
            "   PassengerId  Survived  Pclass  \\\n",
            "0            1         0       3   \n",
            "1            2         1       1   \n",
            "2            3         1       3   \n",
            "\n",
            "                                                Name     Sex   Age  SibSp  \\\n",
            "0                            Braund, Mr. Owen Harris    male  22.0      1   \n",
            "1  Cumings, Mrs. John Bradley (Florence Briggs Th...  female  38.0      1   \n",
            "2                             Heikkinen, Miss. Laina  female  26.0      0   \n",
            "\n",
            "   Parch            Ticket     Fare Cabin Embarked  \n",
            "0      0         A/5 21171   7.2500   NaN        S  \n",
            "1      0          PC 17599  71.2833   C85        C  \n",
            "2      0  STON/O2. 3101282   7.9250   NaN        S  \n",
            "\n",
            "#############################\n",
            "\n",
            "   PassengerId  Pclass                              Name     Sex   Age  SibSp  \\\n",
            "0          892       3                  Kelly, Mr. James    male  34.5      0   \n",
            "1          893       3  Wilkes, Mrs. James (Ellen Needs)  female  47.0      1   \n",
            "2          894       2         Myles, Mr. Thomas Francis    male  62.0      0   \n",
            "\n",
            "   Parch  Ticket    Fare Cabin Embarked  \n",
            "0      0  330911  7.8292   NaN        Q  \n",
            "1      0  363272  7.0000   NaN        S  \n",
            "2      0  240276  9.6875   NaN        Q  \n"
          ]
        }
      ]
    },
    {
      "cell_type": "markdown",
      "metadata": {
        "id": "kPtoTDLMESPb"
      },
      "source": [
        "## Entendendo seus dados\n",
        "Antes de começar com a análise, é importante entender a estrutura dos seus dados. Ambos `test` e `train` são objetos DataFrame, o modo como Pandas representa os conjuntos de dados. Você pode explorar facilmente um DataFrame usando o método `.describe()` . `.describe()` resume as colunas/características do DataFrame, incluindo a contagem de observações, média, máx e assim por diante. Outra dica útil é observar as dimensões do DataFrame. Isto é feito solicitando o atributo `.shape` do seu objeto DataFrame. (ex. `seus_dados.shape`)\n",
        "\n",
        "O conjunto de treinamento e de teste já está disponível no espaço de trabalho (workplace), como `train` e` test`. Aplique o método `.describe ()` e imprima o atributo `.shape` do conjunto de treinamento. "
      ]
    },
    {
      "cell_type": "markdown",
      "metadata": {
        "id": "1OYylp4SIRHs"
      },
      "source": [
        "### <font color = \"000080\">Qual das seguintes afirmações está correta?</font>\n",
        "1. O conjunto de treinamento tem 891 observações e 12 variáveis, a contagem total para idade é de 714. ✅\n",
        "2. O conjunto de treinamento tem 891 observações e 11 variáveis, a contagem total para idade é de 891.\n",
        "3. O conjunto de treinamento tem 418 observações e 12 variáveis, a contagem total para idade é de 714.\n",
        "4. O conjunto de treinamento tem 418 observações e 11 variáveis, a contagem total para idade é de 891."
      ]
    },
    {
      "cell_type": "code",
      "metadata": {
        "id": "I30yTY64ESPg",
        "colab": {
          "base_uri": "https://localhost:8080/",
          "height": 300
        },
        "outputId": "7eef9d1f-9491-4e72-b481-9aaf76771456"
      },
      "source": [
        "train.shape\n",
        "train.describe()\n",
        "\n"
      ],
      "execution_count": 53,
      "outputs": [
        {
          "output_type": "execute_result",
          "data": {
            "text/plain": [
              "       PassengerId    Survived      Pclass         Age       SibSp  \\\n",
              "count   891.000000  891.000000  891.000000  891.000000  891.000000   \n",
              "mean    446.000000    0.383838    2.308642   29.361582    0.523008   \n",
              "std     257.353842    0.486592    0.836071   13.019697    1.102743   \n",
              "min       1.000000    0.000000    1.000000    0.420000    0.000000   \n",
              "25%     223.500000    0.000000    2.000000   22.000000    0.000000   \n",
              "50%     446.000000    0.000000    3.000000   28.000000    0.000000   \n",
              "75%     668.500000    1.000000    3.000000   35.000000    1.000000   \n",
              "max     891.000000    1.000000    3.000000   80.000000    8.000000   \n",
              "\n",
              "            Parch        Fare       Child  \n",
              "count  891.000000  891.000000  714.000000  \n",
              "mean     0.381594   32.204208    0.158263  \n",
              "std      0.806057   49.693429    0.365244  \n",
              "min      0.000000    0.000000    0.000000  \n",
              "25%      0.000000    7.910400    0.000000  \n",
              "50%      0.000000   14.454200    0.000000  \n",
              "75%      0.000000   31.000000    0.000000  \n",
              "max      6.000000  512.329200    1.000000  "
            ],
            "text/html": [
              "\n",
              "  <div id=\"df-f0462223-f3ec-4887-9194-d40e04e5c5f6\">\n",
              "    <div class=\"colab-df-container\">\n",
              "      <div>\n",
              "<style scoped>\n",
              "    .dataframe tbody tr th:only-of-type {\n",
              "        vertical-align: middle;\n",
              "    }\n",
              "\n",
              "    .dataframe tbody tr th {\n",
              "        vertical-align: top;\n",
              "    }\n",
              "\n",
              "    .dataframe thead th {\n",
              "        text-align: right;\n",
              "    }\n",
              "</style>\n",
              "<table border=\"1\" class=\"dataframe\">\n",
              "  <thead>\n",
              "    <tr style=\"text-align: right;\">\n",
              "      <th></th>\n",
              "      <th>PassengerId</th>\n",
              "      <th>Survived</th>\n",
              "      <th>Pclass</th>\n",
              "      <th>Age</th>\n",
              "      <th>SibSp</th>\n",
              "      <th>Parch</th>\n",
              "      <th>Fare</th>\n",
              "      <th>Child</th>\n",
              "    </tr>\n",
              "  </thead>\n",
              "  <tbody>\n",
              "    <tr>\n",
              "      <th>count</th>\n",
              "      <td>891.000000</td>\n",
              "      <td>891.000000</td>\n",
              "      <td>891.000000</td>\n",
              "      <td>891.000000</td>\n",
              "      <td>891.000000</td>\n",
              "      <td>891.000000</td>\n",
              "      <td>891.000000</td>\n",
              "      <td>714.000000</td>\n",
              "    </tr>\n",
              "    <tr>\n",
              "      <th>mean</th>\n",
              "      <td>446.000000</td>\n",
              "      <td>0.383838</td>\n",
              "      <td>2.308642</td>\n",
              "      <td>29.361582</td>\n",
              "      <td>0.523008</td>\n",
              "      <td>0.381594</td>\n",
              "      <td>32.204208</td>\n",
              "      <td>0.158263</td>\n",
              "    </tr>\n",
              "    <tr>\n",
              "      <th>std</th>\n",
              "      <td>257.353842</td>\n",
              "      <td>0.486592</td>\n",
              "      <td>0.836071</td>\n",
              "      <td>13.019697</td>\n",
              "      <td>1.102743</td>\n",
              "      <td>0.806057</td>\n",
              "      <td>49.693429</td>\n",
              "      <td>0.365244</td>\n",
              "    </tr>\n",
              "    <tr>\n",
              "      <th>min</th>\n",
              "      <td>1.000000</td>\n",
              "      <td>0.000000</td>\n",
              "      <td>1.000000</td>\n",
              "      <td>0.420000</td>\n",
              "      <td>0.000000</td>\n",
              "      <td>0.000000</td>\n",
              "      <td>0.000000</td>\n",
              "      <td>0.000000</td>\n",
              "    </tr>\n",
              "    <tr>\n",
              "      <th>25%</th>\n",
              "      <td>223.500000</td>\n",
              "      <td>0.000000</td>\n",
              "      <td>2.000000</td>\n",
              "      <td>22.000000</td>\n",
              "      <td>0.000000</td>\n",
              "      <td>0.000000</td>\n",
              "      <td>7.910400</td>\n",
              "      <td>0.000000</td>\n",
              "    </tr>\n",
              "    <tr>\n",
              "      <th>50%</th>\n",
              "      <td>446.000000</td>\n",
              "      <td>0.000000</td>\n",
              "      <td>3.000000</td>\n",
              "      <td>28.000000</td>\n",
              "      <td>0.000000</td>\n",
              "      <td>0.000000</td>\n",
              "      <td>14.454200</td>\n",
              "      <td>0.000000</td>\n",
              "    </tr>\n",
              "    <tr>\n",
              "      <th>75%</th>\n",
              "      <td>668.500000</td>\n",
              "      <td>1.000000</td>\n",
              "      <td>3.000000</td>\n",
              "      <td>35.000000</td>\n",
              "      <td>1.000000</td>\n",
              "      <td>0.000000</td>\n",
              "      <td>31.000000</td>\n",
              "      <td>0.000000</td>\n",
              "    </tr>\n",
              "    <tr>\n",
              "      <th>max</th>\n",
              "      <td>891.000000</td>\n",
              "      <td>1.000000</td>\n",
              "      <td>3.000000</td>\n",
              "      <td>80.000000</td>\n",
              "      <td>8.000000</td>\n",
              "      <td>6.000000</td>\n",
              "      <td>512.329200</td>\n",
              "      <td>1.000000</td>\n",
              "    </tr>\n",
              "  </tbody>\n",
              "</table>\n",
              "</div>\n",
              "      <button class=\"colab-df-convert\" onclick=\"convertToInteractive('df-f0462223-f3ec-4887-9194-d40e04e5c5f6')\"\n",
              "              title=\"Convert this dataframe to an interactive table.\"\n",
              "              style=\"display:none;\">\n",
              "        \n",
              "  <svg xmlns=\"http://www.w3.org/2000/svg\" height=\"24px\"viewBox=\"0 0 24 24\"\n",
              "       width=\"24px\">\n",
              "    <path d=\"M0 0h24v24H0V0z\" fill=\"none\"/>\n",
              "    <path d=\"M18.56 5.44l.94 2.06.94-2.06 2.06-.94-2.06-.94-.94-2.06-.94 2.06-2.06.94zm-11 1L8.5 8.5l.94-2.06 2.06-.94-2.06-.94L8.5 2.5l-.94 2.06-2.06.94zm10 10l.94 2.06.94-2.06 2.06-.94-2.06-.94-.94-2.06-.94 2.06-2.06.94z\"/><path d=\"M17.41 7.96l-1.37-1.37c-.4-.4-.92-.59-1.43-.59-.52 0-1.04.2-1.43.59L10.3 9.45l-7.72 7.72c-.78.78-.78 2.05 0 2.83L4 21.41c.39.39.9.59 1.41.59.51 0 1.02-.2 1.41-.59l7.78-7.78 2.81-2.81c.8-.78.8-2.07 0-2.86zM5.41 20L4 18.59l7.72-7.72 1.47 1.35L5.41 20z\"/>\n",
              "  </svg>\n",
              "      </button>\n",
              "      \n",
              "  <style>\n",
              "    .colab-df-container {\n",
              "      display:flex;\n",
              "      flex-wrap:wrap;\n",
              "      gap: 12px;\n",
              "    }\n",
              "\n",
              "    .colab-df-convert {\n",
              "      background-color: #E8F0FE;\n",
              "      border: none;\n",
              "      border-radius: 50%;\n",
              "      cursor: pointer;\n",
              "      display: none;\n",
              "      fill: #1967D2;\n",
              "      height: 32px;\n",
              "      padding: 0 0 0 0;\n",
              "      width: 32px;\n",
              "    }\n",
              "\n",
              "    .colab-df-convert:hover {\n",
              "      background-color: #E2EBFA;\n",
              "      box-shadow: 0px 1px 2px rgba(60, 64, 67, 0.3), 0px 1px 3px 1px rgba(60, 64, 67, 0.15);\n",
              "      fill: #174EA6;\n",
              "    }\n",
              "\n",
              "    [theme=dark] .colab-df-convert {\n",
              "      background-color: #3B4455;\n",
              "      fill: #D2E3FC;\n",
              "    }\n",
              "\n",
              "    [theme=dark] .colab-df-convert:hover {\n",
              "      background-color: #434B5C;\n",
              "      box-shadow: 0px 1px 3px 1px rgba(0, 0, 0, 0.15);\n",
              "      filter: drop-shadow(0px 1px 2px rgba(0, 0, 0, 0.3));\n",
              "      fill: #FFFFFF;\n",
              "    }\n",
              "  </style>\n",
              "\n",
              "      <script>\n",
              "        const buttonEl =\n",
              "          document.querySelector('#df-f0462223-f3ec-4887-9194-d40e04e5c5f6 button.colab-df-convert');\n",
              "        buttonEl.style.display =\n",
              "          google.colab.kernel.accessAllowed ? 'block' : 'none';\n",
              "\n",
              "        async function convertToInteractive(key) {\n",
              "          const element = document.querySelector('#df-f0462223-f3ec-4887-9194-d40e04e5c5f6');\n",
              "          const dataTable =\n",
              "            await google.colab.kernel.invokeFunction('convertToInteractive',\n",
              "                                                     [key], {});\n",
              "          if (!dataTable) return;\n",
              "\n",
              "          const docLinkHtml = 'Like what you see? Visit the ' +\n",
              "            '<a target=\"_blank\" href=https://colab.research.google.com/notebooks/data_table.ipynb>data table notebook</a>'\n",
              "            + ' to learn more about interactive tables.';\n",
              "          element.innerHTML = '';\n",
              "          dataTable['output_type'] = 'display_data';\n",
              "          await google.colab.output.renderOutput(dataTable, element);\n",
              "          const docLink = document.createElement('div');\n",
              "          docLink.innerHTML = docLinkHtml;\n",
              "          element.appendChild(docLink);\n",
              "        }\n",
              "      </script>\n",
              "    </div>\n",
              "  </div>\n",
              "  "
            ]
          },
          "metadata": {},
          "execution_count": 53
        }
      ]
    },
    {
      "cell_type": "code",
      "metadata": {
        "id": "QPp4hoeRESPu",
        "colab": {
          "base_uri": "https://localhost:8080/",
          "height": 300
        },
        "outputId": "ee2c760e-6347-4cf8-f45c-22051e667d81"
      },
      "source": [
        "test.shape\n",
        "test.describe()"
      ],
      "execution_count": 7,
      "outputs": [
        {
          "output_type": "execute_result",
          "data": {
            "text/plain": [
              "       PassengerId      Pclass         Age       SibSp       Parch        Fare\n",
              "count   418.000000  418.000000  332.000000  418.000000  418.000000  417.000000\n",
              "mean   1100.500000    2.265550   30.272590    0.447368    0.392344   35.627188\n",
              "std     120.810458    0.841838   14.181209    0.896760    0.981429   55.907576\n",
              "min     892.000000    1.000000    0.170000    0.000000    0.000000    0.000000\n",
              "25%     996.250000    1.000000   21.000000    0.000000    0.000000    7.895800\n",
              "50%    1100.500000    3.000000   27.000000    0.000000    0.000000   14.454200\n",
              "75%    1204.750000    3.000000   39.000000    1.000000    0.000000   31.500000\n",
              "max    1309.000000    3.000000   76.000000    8.000000    9.000000  512.329200"
            ],
            "text/html": [
              "\n",
              "  <div id=\"df-8fdb47d6-8d36-47a5-a452-16822de0dda5\">\n",
              "    <div class=\"colab-df-container\">\n",
              "      <div>\n",
              "<style scoped>\n",
              "    .dataframe tbody tr th:only-of-type {\n",
              "        vertical-align: middle;\n",
              "    }\n",
              "\n",
              "    .dataframe tbody tr th {\n",
              "        vertical-align: top;\n",
              "    }\n",
              "\n",
              "    .dataframe thead th {\n",
              "        text-align: right;\n",
              "    }\n",
              "</style>\n",
              "<table border=\"1\" class=\"dataframe\">\n",
              "  <thead>\n",
              "    <tr style=\"text-align: right;\">\n",
              "      <th></th>\n",
              "      <th>PassengerId</th>\n",
              "      <th>Pclass</th>\n",
              "      <th>Age</th>\n",
              "      <th>SibSp</th>\n",
              "      <th>Parch</th>\n",
              "      <th>Fare</th>\n",
              "    </tr>\n",
              "  </thead>\n",
              "  <tbody>\n",
              "    <tr>\n",
              "      <th>count</th>\n",
              "      <td>418.000000</td>\n",
              "      <td>418.000000</td>\n",
              "      <td>332.000000</td>\n",
              "      <td>418.000000</td>\n",
              "      <td>418.000000</td>\n",
              "      <td>417.000000</td>\n",
              "    </tr>\n",
              "    <tr>\n",
              "      <th>mean</th>\n",
              "      <td>1100.500000</td>\n",
              "      <td>2.265550</td>\n",
              "      <td>30.272590</td>\n",
              "      <td>0.447368</td>\n",
              "      <td>0.392344</td>\n",
              "      <td>35.627188</td>\n",
              "    </tr>\n",
              "    <tr>\n",
              "      <th>std</th>\n",
              "      <td>120.810458</td>\n",
              "      <td>0.841838</td>\n",
              "      <td>14.181209</td>\n",
              "      <td>0.896760</td>\n",
              "      <td>0.981429</td>\n",
              "      <td>55.907576</td>\n",
              "    </tr>\n",
              "    <tr>\n",
              "      <th>min</th>\n",
              "      <td>892.000000</td>\n",
              "      <td>1.000000</td>\n",
              "      <td>0.170000</td>\n",
              "      <td>0.000000</td>\n",
              "      <td>0.000000</td>\n",
              "      <td>0.000000</td>\n",
              "    </tr>\n",
              "    <tr>\n",
              "      <th>25%</th>\n",
              "      <td>996.250000</td>\n",
              "      <td>1.000000</td>\n",
              "      <td>21.000000</td>\n",
              "      <td>0.000000</td>\n",
              "      <td>0.000000</td>\n",
              "      <td>7.895800</td>\n",
              "    </tr>\n",
              "    <tr>\n",
              "      <th>50%</th>\n",
              "      <td>1100.500000</td>\n",
              "      <td>3.000000</td>\n",
              "      <td>27.000000</td>\n",
              "      <td>0.000000</td>\n",
              "      <td>0.000000</td>\n",
              "      <td>14.454200</td>\n",
              "    </tr>\n",
              "    <tr>\n",
              "      <th>75%</th>\n",
              "      <td>1204.750000</td>\n",
              "      <td>3.000000</td>\n",
              "      <td>39.000000</td>\n",
              "      <td>1.000000</td>\n",
              "      <td>0.000000</td>\n",
              "      <td>31.500000</td>\n",
              "    </tr>\n",
              "    <tr>\n",
              "      <th>max</th>\n",
              "      <td>1309.000000</td>\n",
              "      <td>3.000000</td>\n",
              "      <td>76.000000</td>\n",
              "      <td>8.000000</td>\n",
              "      <td>9.000000</td>\n",
              "      <td>512.329200</td>\n",
              "    </tr>\n",
              "  </tbody>\n",
              "</table>\n",
              "</div>\n",
              "      <button class=\"colab-df-convert\" onclick=\"convertToInteractive('df-8fdb47d6-8d36-47a5-a452-16822de0dda5')\"\n",
              "              title=\"Convert this dataframe to an interactive table.\"\n",
              "              style=\"display:none;\">\n",
              "        \n",
              "  <svg xmlns=\"http://www.w3.org/2000/svg\" height=\"24px\"viewBox=\"0 0 24 24\"\n",
              "       width=\"24px\">\n",
              "    <path d=\"M0 0h24v24H0V0z\" fill=\"none\"/>\n",
              "    <path d=\"M18.56 5.44l.94 2.06.94-2.06 2.06-.94-2.06-.94-.94-2.06-.94 2.06-2.06.94zm-11 1L8.5 8.5l.94-2.06 2.06-.94-2.06-.94L8.5 2.5l-.94 2.06-2.06.94zm10 10l.94 2.06.94-2.06 2.06-.94-2.06-.94-.94-2.06-.94 2.06-2.06.94z\"/><path d=\"M17.41 7.96l-1.37-1.37c-.4-.4-.92-.59-1.43-.59-.52 0-1.04.2-1.43.59L10.3 9.45l-7.72 7.72c-.78.78-.78 2.05 0 2.83L4 21.41c.39.39.9.59 1.41.59.51 0 1.02-.2 1.41-.59l7.78-7.78 2.81-2.81c.8-.78.8-2.07 0-2.86zM5.41 20L4 18.59l7.72-7.72 1.47 1.35L5.41 20z\"/>\n",
              "  </svg>\n",
              "      </button>\n",
              "      \n",
              "  <style>\n",
              "    .colab-df-container {\n",
              "      display:flex;\n",
              "      flex-wrap:wrap;\n",
              "      gap: 12px;\n",
              "    }\n",
              "\n",
              "    .colab-df-convert {\n",
              "      background-color: #E8F0FE;\n",
              "      border: none;\n",
              "      border-radius: 50%;\n",
              "      cursor: pointer;\n",
              "      display: none;\n",
              "      fill: #1967D2;\n",
              "      height: 32px;\n",
              "      padding: 0 0 0 0;\n",
              "      width: 32px;\n",
              "    }\n",
              "\n",
              "    .colab-df-convert:hover {\n",
              "      background-color: #E2EBFA;\n",
              "      box-shadow: 0px 1px 2px rgba(60, 64, 67, 0.3), 0px 1px 3px 1px rgba(60, 64, 67, 0.15);\n",
              "      fill: #174EA6;\n",
              "    }\n",
              "\n",
              "    [theme=dark] .colab-df-convert {\n",
              "      background-color: #3B4455;\n",
              "      fill: #D2E3FC;\n",
              "    }\n",
              "\n",
              "    [theme=dark] .colab-df-convert:hover {\n",
              "      background-color: #434B5C;\n",
              "      box-shadow: 0px 1px 3px 1px rgba(0, 0, 0, 0.15);\n",
              "      filter: drop-shadow(0px 1px 2px rgba(0, 0, 0, 0.3));\n",
              "      fill: #FFFFFF;\n",
              "    }\n",
              "  </style>\n",
              "\n",
              "      <script>\n",
              "        const buttonEl =\n",
              "          document.querySelector('#df-8fdb47d6-8d36-47a5-a452-16822de0dda5 button.colab-df-convert');\n",
              "        buttonEl.style.display =\n",
              "          google.colab.kernel.accessAllowed ? 'block' : 'none';\n",
              "\n",
              "        async function convertToInteractive(key) {\n",
              "          const element = document.querySelector('#df-8fdb47d6-8d36-47a5-a452-16822de0dda5');\n",
              "          const dataTable =\n",
              "            await google.colab.kernel.invokeFunction('convertToInteractive',\n",
              "                                                     [key], {});\n",
              "          if (!dataTable) return;\n",
              "\n",
              "          const docLinkHtml = 'Like what you see? Visit the ' +\n",
              "            '<a target=\"_blank\" href=https://colab.research.google.com/notebooks/data_table.ipynb>data table notebook</a>'\n",
              "            + ' to learn more about interactive tables.';\n",
              "          element.innerHTML = '';\n",
              "          dataTable['output_type'] = 'display_data';\n",
              "          await google.colab.output.renderOutput(dataTable, element);\n",
              "          const docLink = document.createElement('div');\n",
              "          docLink.innerHTML = docLinkHtml;\n",
              "          element.appendChild(docLink);\n",
              "        }\n",
              "      </script>\n",
              "    </div>\n",
              "  </div>\n",
              "  "
            ]
          },
          "metadata": {},
          "execution_count": 7
        }
      ]
    },
    {
      "cell_type": "code",
      "source": [
        "# utilize a chamada de ProfileReport (do pandas-profiling)\n",
        "# para gerar o relatório sobre o conjunto de dados\n",
        "profile = ProfileReport(train, title=\"Pandas Profiling Report\")\n",
        "\n",
        "# uma célula para train e outra célula para test"
      ],
      "metadata": {
        "id": "2WH52Th4eX_k",
        "colab": {
          "base_uri": "https://localhost:8080/",
          "height": 745
        },
        "outputId": "a430d8c3-b11a-4e23-caf5-93958195addf"
      },
      "execution_count": 22,
      "outputs": [
        {
          "output_type": "error",
          "ename": "TypeError",
          "evalue": "ignored",
          "traceback": [
            "\u001b[0;31m---------------------------------------------------------------------------\u001b[0m",
            "\u001b[0;31mRemoteTraceback\u001b[0m                           Traceback (most recent call last)",
            "\u001b[0;31mRemoteTraceback\u001b[0m: \n\"\"\"\nTraceback (most recent call last):\n  File \"/usr/lib/python3.7/multiprocessing/pool.py\", line 121, in worker\n    result = (True, func(*args, **kwds))\n  File \"/usr/lib/python3.7/multiprocessing/pool.py\", line 44, in mapstar\n    return list(map(*args))\n  File \"/usr/local/lib/python3.7/dist-packages/pandas_profiling/describe.py\", line 282, in multiprocess_func\n    return x[0], describe_1d(x[1], **kwargs)\n  File \"/usr/local/lib/python3.7/dist-packages/pandas_profiling/describe.py\", line 270, in describe_1d\n    result = result.append(describe_numeric_1d(data, **kwargs))\n  File \"/usr/local/lib/python3.7/dist-packages/pandas_profiling/describe.py\", line 54, in describe_numeric_1d\n    stats['histogram'] = histogram(series, **kwargs)\n  File \"/usr/local/lib/python3.7/dist-packages/pandas_profiling/plot.py\", line 73, in histogram\n    plot = _plot_histogram(series, **kwargs)\nTypeError: _plot_histogram() got an unexpected keyword argument 'title'\n\"\"\"",
            "\nThe above exception was the direct cause of the following exception:\n",
            "\u001b[0;31mTypeError\u001b[0m                                 Traceback (most recent call last)",
            "\u001b[0;32m<ipython-input-22-b87f7e2e689c>\u001b[0m in \u001b[0;36m<module>\u001b[0;34m()\u001b[0m\n\u001b[1;32m      1\u001b[0m \u001b[0;31m# utilize a chamada de ProfileReport (do pandas-profiling)\u001b[0m\u001b[0;34m\u001b[0m\u001b[0;34m\u001b[0m\u001b[0;34m\u001b[0m\u001b[0m\n\u001b[1;32m      2\u001b[0m \u001b[0;31m# para gerar o relatório sobre o conjunto de dados\u001b[0m\u001b[0;34m\u001b[0m\u001b[0;34m\u001b[0m\u001b[0;34m\u001b[0m\u001b[0m\n\u001b[0;32m----> 3\u001b[0;31m \u001b[0mprofile\u001b[0m \u001b[0;34m=\u001b[0m \u001b[0mProfileReport\u001b[0m\u001b[0;34m(\u001b[0m\u001b[0mtrain\u001b[0m\u001b[0;34m,\u001b[0m \u001b[0mtitle\u001b[0m\u001b[0;34m=\u001b[0m\u001b[0;34m\"Pandas Profiling Report\"\u001b[0m\u001b[0;34m)\u001b[0m\u001b[0;34m\u001b[0m\u001b[0;34m\u001b[0m\u001b[0m\n\u001b[0m\u001b[1;32m      4\u001b[0m \u001b[0;34m\u001b[0m\u001b[0m\n\u001b[1;32m      5\u001b[0m \u001b[0;31m# uma célula para train e outra célula para test\u001b[0m\u001b[0;34m\u001b[0m\u001b[0;34m\u001b[0m\u001b[0;34m\u001b[0m\u001b[0m\n",
            "\u001b[0;32m/usr/local/lib/python3.7/dist-packages/pandas_profiling/__init__.py\u001b[0m in \u001b[0;36m__init__\u001b[0;34m(self, df, **kwargs)\u001b[0m\n\u001b[1;32m     64\u001b[0m         \u001b[0msample\u001b[0m \u001b[0;34m=\u001b[0m \u001b[0mkwargs\u001b[0m\u001b[0;34m.\u001b[0m\u001b[0mget\u001b[0m\u001b[0;34m(\u001b[0m\u001b[0;34m'sample'\u001b[0m\u001b[0;34m,\u001b[0m \u001b[0mdf\u001b[0m\u001b[0;34m.\u001b[0m\u001b[0mhead\u001b[0m\u001b[0;34m(\u001b[0m\u001b[0;34m)\u001b[0m\u001b[0;34m)\u001b[0m\u001b[0;34m\u001b[0m\u001b[0;34m\u001b[0m\u001b[0m\n\u001b[1;32m     65\u001b[0m \u001b[0;34m\u001b[0m\u001b[0m\n\u001b[0;32m---> 66\u001b[0;31m         \u001b[0mdescription_set\u001b[0m \u001b[0;34m=\u001b[0m \u001b[0mdescribe\u001b[0m\u001b[0;34m(\u001b[0m\u001b[0mdf\u001b[0m\u001b[0;34m,\u001b[0m \u001b[0;34m**\u001b[0m\u001b[0mkwargs\u001b[0m\u001b[0;34m)\u001b[0m\u001b[0;34m\u001b[0m\u001b[0;34m\u001b[0m\u001b[0m\n\u001b[0m\u001b[1;32m     67\u001b[0m \u001b[0;34m\u001b[0m\u001b[0m\n\u001b[1;32m     68\u001b[0m         self.html = to_html(sample,\n",
            "\u001b[0;32m/usr/local/lib/python3.7/dist-packages/pandas_profiling/describe.py\u001b[0m in \u001b[0;36mdescribe\u001b[0;34m(df, bins, check_correlation, correlation_threshold, correlation_overrides, check_recoded, pool_size, **kwargs)\u001b[0m\n\u001b[1;32m    349\u001b[0m     \u001b[0mpool\u001b[0m \u001b[0;34m=\u001b[0m \u001b[0mmultiprocessing\u001b[0m\u001b[0;34m.\u001b[0m\u001b[0mPool\u001b[0m\u001b[0;34m(\u001b[0m\u001b[0mpool_size\u001b[0m\u001b[0;34m)\u001b[0m\u001b[0;34m\u001b[0m\u001b[0;34m\u001b[0m\u001b[0m\n\u001b[1;32m    350\u001b[0m     \u001b[0mlocal_multiprocess_func\u001b[0m \u001b[0;34m=\u001b[0m \u001b[0mpartial\u001b[0m\u001b[0;34m(\u001b[0m\u001b[0mmultiprocess_func\u001b[0m\u001b[0;34m,\u001b[0m \u001b[0;34m**\u001b[0m\u001b[0mkwargs\u001b[0m\u001b[0;34m)\u001b[0m\u001b[0;34m\u001b[0m\u001b[0;34m\u001b[0m\u001b[0m\n\u001b[0;32m--> 351\u001b[0;31m     \u001b[0mldesc\u001b[0m \u001b[0;34m=\u001b[0m \u001b[0;34m{\u001b[0m\u001b[0mcol\u001b[0m\u001b[0;34m:\u001b[0m \u001b[0ms\u001b[0m \u001b[0;32mfor\u001b[0m \u001b[0mcol\u001b[0m\u001b[0;34m,\u001b[0m \u001b[0ms\u001b[0m \u001b[0;32min\u001b[0m \u001b[0mpool\u001b[0m\u001b[0;34m.\u001b[0m\u001b[0mmap\u001b[0m\u001b[0;34m(\u001b[0m\u001b[0mlocal_multiprocess_func\u001b[0m\u001b[0;34m,\u001b[0m \u001b[0mdf\u001b[0m\u001b[0;34m.\u001b[0m\u001b[0miteritems\u001b[0m\u001b[0;34m(\u001b[0m\u001b[0;34m)\u001b[0m\u001b[0;34m)\u001b[0m\u001b[0;34m}\u001b[0m\u001b[0;34m\u001b[0m\u001b[0;34m\u001b[0m\u001b[0m\n\u001b[0m\u001b[1;32m    352\u001b[0m     \u001b[0mpool\u001b[0m\u001b[0;34m.\u001b[0m\u001b[0mclose\u001b[0m\u001b[0;34m(\u001b[0m\u001b[0;34m)\u001b[0m\u001b[0;34m\u001b[0m\u001b[0;34m\u001b[0m\u001b[0m\n\u001b[1;32m    353\u001b[0m \u001b[0;34m\u001b[0m\u001b[0m\n",
            "\u001b[0;32m/usr/lib/python3.7/multiprocessing/pool.py\u001b[0m in \u001b[0;36mmap\u001b[0;34m(self, func, iterable, chunksize)\u001b[0m\n\u001b[1;32m    266\u001b[0m         \u001b[0;32min\u001b[0m \u001b[0ma\u001b[0m \u001b[0mlist\u001b[0m \u001b[0mthat\u001b[0m \u001b[0;32mis\u001b[0m \u001b[0mreturned\u001b[0m\u001b[0;34m.\u001b[0m\u001b[0;34m\u001b[0m\u001b[0;34m\u001b[0m\u001b[0m\n\u001b[1;32m    267\u001b[0m         '''\n\u001b[0;32m--> 268\u001b[0;31m         \u001b[0;32mreturn\u001b[0m \u001b[0mself\u001b[0m\u001b[0;34m.\u001b[0m\u001b[0m_map_async\u001b[0m\u001b[0;34m(\u001b[0m\u001b[0mfunc\u001b[0m\u001b[0;34m,\u001b[0m \u001b[0miterable\u001b[0m\u001b[0;34m,\u001b[0m \u001b[0mmapstar\u001b[0m\u001b[0;34m,\u001b[0m \u001b[0mchunksize\u001b[0m\u001b[0;34m)\u001b[0m\u001b[0;34m.\u001b[0m\u001b[0mget\u001b[0m\u001b[0;34m(\u001b[0m\u001b[0;34m)\u001b[0m\u001b[0;34m\u001b[0m\u001b[0;34m\u001b[0m\u001b[0m\n\u001b[0m\u001b[1;32m    269\u001b[0m \u001b[0;34m\u001b[0m\u001b[0m\n\u001b[1;32m    270\u001b[0m     \u001b[0;32mdef\u001b[0m \u001b[0mstarmap\u001b[0m\u001b[0;34m(\u001b[0m\u001b[0mself\u001b[0m\u001b[0;34m,\u001b[0m \u001b[0mfunc\u001b[0m\u001b[0;34m,\u001b[0m \u001b[0miterable\u001b[0m\u001b[0;34m,\u001b[0m \u001b[0mchunksize\u001b[0m\u001b[0;34m=\u001b[0m\u001b[0;32mNone\u001b[0m\u001b[0;34m)\u001b[0m\u001b[0;34m:\u001b[0m\u001b[0;34m\u001b[0m\u001b[0;34m\u001b[0m\u001b[0m\n",
            "\u001b[0;32m/usr/lib/python3.7/multiprocessing/pool.py\u001b[0m in \u001b[0;36mget\u001b[0;34m(self, timeout)\u001b[0m\n\u001b[1;32m    655\u001b[0m             \u001b[0;32mreturn\u001b[0m \u001b[0mself\u001b[0m\u001b[0;34m.\u001b[0m\u001b[0m_value\u001b[0m\u001b[0;34m\u001b[0m\u001b[0;34m\u001b[0m\u001b[0m\n\u001b[1;32m    656\u001b[0m         \u001b[0;32melse\u001b[0m\u001b[0;34m:\u001b[0m\u001b[0;34m\u001b[0m\u001b[0;34m\u001b[0m\u001b[0m\n\u001b[0;32m--> 657\u001b[0;31m             \u001b[0;32mraise\u001b[0m \u001b[0mself\u001b[0m\u001b[0;34m.\u001b[0m\u001b[0m_value\u001b[0m\u001b[0;34m\u001b[0m\u001b[0;34m\u001b[0m\u001b[0m\n\u001b[0m\u001b[1;32m    658\u001b[0m \u001b[0;34m\u001b[0m\u001b[0m\n\u001b[1;32m    659\u001b[0m     \u001b[0;32mdef\u001b[0m \u001b[0m_set\u001b[0m\u001b[0;34m(\u001b[0m\u001b[0mself\u001b[0m\u001b[0;34m,\u001b[0m \u001b[0mi\u001b[0m\u001b[0;34m,\u001b[0m \u001b[0mobj\u001b[0m\u001b[0;34m)\u001b[0m\u001b[0;34m:\u001b[0m\u001b[0;34m\u001b[0m\u001b[0;34m\u001b[0m\u001b[0m\n",
            "\u001b[0;31mTypeError\u001b[0m: _plot_histogram() got an unexpected keyword argument 'title'"
          ]
        }
      ]
    },
    {
      "cell_type": "markdown",
      "metadata": {
        "id": "22F04G1pESP-"
      },
      "source": [
        "## Rose vs Jack, ou Feminino vs Masculino\n",
        "Quantas pessoas em seu conjunto de dados de treinamento sobreviveram ao desastre do Titanic? Para ver isso, você pode usar o método `value_counts ()` em combinação com a notação de colchetes padrão para selecionar uma única coluna de um DataFrame:"
      ]
    },
    {
      "cell_type": "markdown",
      "metadata": {
        "id": "y7XhpeKWESQB"
      },
      "source": [
        "```# números absolutos\n",
        "train[\"Survived\"].value_counts()```\n",
        "\n",
        "```# porcentagens\n",
        "train[\"Survived\"].value_counts(normalize = True)```"
      ]
    },
    {
      "cell_type": "markdown",
      "metadata": {
        "id": "C52jdZXyESQE"
      },
      "source": [
        "Se você executar esses comandos no console, observará que 549 pessoas morreram (62%) e 342 sobreviveram (38%). Uma maneira simples de prever heuristicamente poderia ser: \"maioria ganha\". Isto significa que você vai prever cada observação invisível para não sobreviver.\n",
        "\n",
        "Para mergulhar um pouco mais fundo, podemos realizar contagens e cálculos percentuais semelhantes em subconjuntos da coluna Survived. Por exemplo, talvez gênero também pudesse desempenhar um papel? Você pode explorar isso usando o método `.value_counts ()` para uma comparação bidirecional sobre o número de homens e mulheres que sobreviveram, com esta sintaxe:"
      ]
    },
    {
      "cell_type": "markdown",
      "metadata": {
        "id": "ds1bnQH1ESQH"
      },
      "source": [
        "``` train[\"Survived\"][train[\"Sex\"] == 'male'].value_counts()\n",
        "train[\"Survived\"][train[\"Sex\"] == 'female'].value_counts() ```"
      ]
    },
    {
      "cell_type": "markdown",
      "metadata": {
        "id": "cvxK8SW3ESQL"
      },
      "source": [
        "Para obter proporções, você pode passar novamente no argumento normalize = True para o método `.value_counts ()`."
      ]
    },
    {
      "cell_type": "code",
      "metadata": {
        "id": "paqSpEsPESQN",
        "colab": {
          "base_uri": "https://localhost:8080/"
        },
        "outputId": "b53332fb-c49f-4eb0-890b-8389d200dbdf"
      },
      "source": [
        "# Calcule e imprima as taxas de sobrevivência em números absolutos usando o método values_counts ().\n",
        "# Passageiros que sobreviveram vs passageiros que faleceram (0 = mortes e 1 = sobreviventes)\n",
        "print(train[\"Survived\"].value_counts())"
      ],
      "execution_count": 8,
      "outputs": [
        {
          "output_type": "stream",
          "name": "stdout",
          "text": [
            "0    549\n",
            "1    342\n",
            "Name: Survived, dtype: int64\n"
          ]
        }
      ]
    },
    {
      "cell_type": "code",
      "metadata": {
        "id": "MVrQf_fCESQa",
        "colab": {
          "base_uri": "https://localhost:8080/"
        },
        "outputId": "d9766253-82fc-4e18-8aed-b8baaf0bffd1"
      },
      "source": [
        "# Calcule e imprima as taxas de sobrevivência como proporções configurando o argumento normalize como True.\n",
        "print(train[\"Survived\"].value_counts(normalize = True))"
      ],
      "execution_count": 9,
      "outputs": [
        {
          "output_type": "stream",
          "name": "stdout",
          "text": [
            "0    0.616162\n",
            "1    0.383838\n",
            "Name: Survived, dtype: float64\n"
          ]
        }
      ]
    },
    {
      "cell_type": "code",
      "metadata": {
        "id": "HNf99rqVESQk",
        "colab": {
          "base_uri": "https://localhost:8080/"
        },
        "outputId": "875b6884-6abf-475f-b5d6-a38b42ac8633"
      },
      "source": [
        "# Repita os mesmos cálculos, mas em subconjuntos de sobrevivências baseadas em sexo.\n",
        "# Homens que sobreviveram vs homens que faleceram\n",
        "print(train[\"Survived\"][train[\"Sex\"] == 'male'].value_counts())"
      ],
      "execution_count": 10,
      "outputs": [
        {
          "output_type": "stream",
          "name": "stdout",
          "text": [
            "0    468\n",
            "1    109\n",
            "Name: Survived, dtype: int64\n"
          ]
        }
      ]
    },
    {
      "cell_type": "code",
      "metadata": {
        "id": "3I3wnHAHESQx",
        "colab": {
          "base_uri": "https://localhost:8080/"
        },
        "outputId": "1da1710b-3efb-47ee-bfd6-b1cfa0a16432"
      },
      "source": [
        "# Mulheres que sobreviveram vs mulheres que faleceram\n",
        "print(train[\"Survived\"][train[\"Sex\"] == 'female'].value_counts())"
      ],
      "execution_count": 11,
      "outputs": [
        {
          "output_type": "stream",
          "name": "stdout",
          "text": [
            "1    233\n",
            "0     81\n",
            "Name: Survived, dtype: int64\n"
          ]
        }
      ]
    },
    {
      "cell_type": "code",
      "metadata": {
        "id": "DkrKbcOKESRB",
        "colab": {
          "base_uri": "https://localhost:8080/"
        },
        "outputId": "00234bc4-cfba-47df-c0a0-eb7cf4c4ab55"
      },
      "source": [
        "# Taxa de sobrevivência masculina normalizada\n",
        "print(train[\"Survived\"][train[\"Sex\"] == 'male'].value_counts(normalize = True))"
      ],
      "execution_count": 13,
      "outputs": [
        {
          "output_type": "stream",
          "name": "stdout",
          "text": [
            "0    0.811092\n",
            "1    0.188908\n",
            "Name: Survived, dtype: float64\n"
          ]
        }
      ]
    },
    {
      "cell_type": "code",
      "metadata": {
        "id": "yZQMP--dESRL",
        "colab": {
          "base_uri": "https://localhost:8080/"
        },
        "outputId": "b1e9b8bd-2bb5-49dd-f501-3986c77de652"
      },
      "source": [
        "# Taxa de sobrevivência feminina normalizada\n",
        "print(train[\"Survived\"][train[\"Sex\"] == 'female'].value_counts(normalize = True))"
      ],
      "execution_count": 14,
      "outputs": [
        {
          "output_type": "stream",
          "name": "stdout",
          "text": [
            "1    0.742038\n",
            "0    0.257962\n",
            "Name: Survived, dtype: float64\n"
          ]
        }
      ]
    },
    {
      "cell_type": "markdown",
      "metadata": {
        "id": "8zn3TjgCESRS"
      },
      "source": [
        "## A idade influencia em algo?\n",
        "Outra variável que pode influenciar a sobrevivência é a idade; uma vez que é provável que as crianças foram salvas primeiro. Você pode testar isso criando uma nova coluna com uma variável categórica `Child`. 'Child' terá o valor 1 nos casos em que a idade for menor que 18 e o valor 0 nos casos em que a idade for maior ou igual a 18.\n",
        "\n",
        "Para adicionar essa nova variável, você precisa fazer duas coisas (i) criar uma nova coluna e (ii) fornecer os valores para cada observação (ou seja, linha) com base na idade do passageiro.\n",
        "\n",
        "Adicionar uma nova coluna com Pandas em Python é fácil e pode ser feito através da seguinte sintaxe:"
      ]
    },
    {
      "cell_type": "markdown",
      "metadata": {
        "id": "FuRByCTGESRU"
      },
      "source": [
        "```your_data[\"new_var\"] = 0```"
      ]
    },
    {
      "cell_type": "markdown",
      "metadata": {
        "id": "q4wYNQVeESRX"
      },
      "source": [
        "Este código criaria uma nova coluna no DataFrame `train` chamado `new_var` com `0` para cada observação.\n",
        "\n",
        "Para definir os valores com base na idade do passageiro, você faz um teste booleano dentro do operador de colchetes. Com o operador `[]`, você cria um subconjunto de linhas e atribui um valor a uma determinada variável desse subconjunto de observações. Por exemplo,"
      ]
    },
    {
      "cell_type": "markdown",
      "metadata": {
        "id": "CB2AdFe6ESRb"
      },
      "source": [
        "``` train[\"new_var\"][train[\"Fare\"] > 10] = 1 ```"
      ]
    },
    {
      "cell_type": "markdown",
      "metadata": {
        "id": "1-9DSUT1ESRj"
      },
      "source": [
        "daria um valor de `1` à variável `new_var` para o subconjunto de passageiros com tarifas superiores a `10`. Lembre-se que `new_var` tem um valor de `0` para todos os outros valores (incluindo valores omissos).\n",
        "\n",
        "Uma nova coluna chamada `Child` no dataframe ` train` foi criada para você e recebe o valor `NaN` para todas as observações."
      ]
    },
    {
      "cell_type": "code",
      "metadata": {
        "id": "tkPe6cvOESRp",
        "colab": {
          "base_uri": "https://localhost:8080/",
          "height": 459
        },
        "outputId": "83949b00-9f77-4a9c-ca99-6f0f94d8688d"
      },
      "source": [
        "# Defina os valores de Child para 1 se a idade do passageiro for menor que 18 anos.\n",
        "# Crie a coluna Child e a atribua 'NaN'\n",
        "train[\"Child\"] = float('NaN')\n",
        "train.head(10)"
      ],
      "execution_count": 20,
      "outputs": [
        {
          "output_type": "execute_result",
          "data": {
            "text/plain": [
              "   PassengerId  Survived  Pclass  \\\n",
              "0            1         0       3   \n",
              "1            2         1       1   \n",
              "2            3         1       3   \n",
              "3            4         1       1   \n",
              "4            5         0       3   \n",
              "5            6         0       3   \n",
              "6            7         0       1   \n",
              "7            8         0       3   \n",
              "8            9         1       3   \n",
              "9           10         1       2   \n",
              "\n",
              "                                                Name     Sex   Age  SibSp  \\\n",
              "0                            Braund, Mr. Owen Harris    male  22.0      1   \n",
              "1  Cumings, Mrs. John Bradley (Florence Briggs Th...  female  38.0      1   \n",
              "2                             Heikkinen, Miss. Laina  female  26.0      0   \n",
              "3       Futrelle, Mrs. Jacques Heath (Lily May Peel)  female  35.0      1   \n",
              "4                           Allen, Mr. William Henry    male  35.0      0   \n",
              "5                                   Moran, Mr. James    male   NaN      0   \n",
              "6                            McCarthy, Mr. Timothy J    male  54.0      0   \n",
              "7                     Palsson, Master. Gosta Leonard    male   2.0      3   \n",
              "8  Johnson, Mrs. Oscar W (Elisabeth Vilhelmina Berg)  female  27.0      0   \n",
              "9                Nasser, Mrs. Nicholas (Adele Achem)  female  14.0      1   \n",
              "\n",
              "   Parch            Ticket     Fare Cabin Embarked  Child  \n",
              "0      0         A/5 21171   7.2500   NaN        S    NaN  \n",
              "1      0          PC 17599  71.2833   C85        C    NaN  \n",
              "2      0  STON/O2. 3101282   7.9250   NaN        S    NaN  \n",
              "3      0            113803  53.1000  C123        S    NaN  \n",
              "4      0            373450   8.0500   NaN        S    NaN  \n",
              "5      0            330877   8.4583   NaN        Q    NaN  \n",
              "6      0             17463  51.8625   E46        S    NaN  \n",
              "7      1            349909  21.0750   NaN        S    NaN  \n",
              "8      2            347742  11.1333   NaN        S    NaN  \n",
              "9      0            237736  30.0708   NaN        C    NaN  "
            ],
            "text/html": [
              "\n",
              "  <div id=\"df-23bbaa6e-7280-401a-8bf3-ec65d71c15cc\">\n",
              "    <div class=\"colab-df-container\">\n",
              "      <div>\n",
              "<style scoped>\n",
              "    .dataframe tbody tr th:only-of-type {\n",
              "        vertical-align: middle;\n",
              "    }\n",
              "\n",
              "    .dataframe tbody tr th {\n",
              "        vertical-align: top;\n",
              "    }\n",
              "\n",
              "    .dataframe thead th {\n",
              "        text-align: right;\n",
              "    }\n",
              "</style>\n",
              "<table border=\"1\" class=\"dataframe\">\n",
              "  <thead>\n",
              "    <tr style=\"text-align: right;\">\n",
              "      <th></th>\n",
              "      <th>PassengerId</th>\n",
              "      <th>Survived</th>\n",
              "      <th>Pclass</th>\n",
              "      <th>Name</th>\n",
              "      <th>Sex</th>\n",
              "      <th>Age</th>\n",
              "      <th>SibSp</th>\n",
              "      <th>Parch</th>\n",
              "      <th>Ticket</th>\n",
              "      <th>Fare</th>\n",
              "      <th>Cabin</th>\n",
              "      <th>Embarked</th>\n",
              "      <th>Child</th>\n",
              "    </tr>\n",
              "  </thead>\n",
              "  <tbody>\n",
              "    <tr>\n",
              "      <th>0</th>\n",
              "      <td>1</td>\n",
              "      <td>0</td>\n",
              "      <td>3</td>\n",
              "      <td>Braund, Mr. Owen Harris</td>\n",
              "      <td>male</td>\n",
              "      <td>22.0</td>\n",
              "      <td>1</td>\n",
              "      <td>0</td>\n",
              "      <td>A/5 21171</td>\n",
              "      <td>7.2500</td>\n",
              "      <td>NaN</td>\n",
              "      <td>S</td>\n",
              "      <td>NaN</td>\n",
              "    </tr>\n",
              "    <tr>\n",
              "      <th>1</th>\n",
              "      <td>2</td>\n",
              "      <td>1</td>\n",
              "      <td>1</td>\n",
              "      <td>Cumings, Mrs. John Bradley (Florence Briggs Th...</td>\n",
              "      <td>female</td>\n",
              "      <td>38.0</td>\n",
              "      <td>1</td>\n",
              "      <td>0</td>\n",
              "      <td>PC 17599</td>\n",
              "      <td>71.2833</td>\n",
              "      <td>C85</td>\n",
              "      <td>C</td>\n",
              "      <td>NaN</td>\n",
              "    </tr>\n",
              "    <tr>\n",
              "      <th>2</th>\n",
              "      <td>3</td>\n",
              "      <td>1</td>\n",
              "      <td>3</td>\n",
              "      <td>Heikkinen, Miss. Laina</td>\n",
              "      <td>female</td>\n",
              "      <td>26.0</td>\n",
              "      <td>0</td>\n",
              "      <td>0</td>\n",
              "      <td>STON/O2. 3101282</td>\n",
              "      <td>7.9250</td>\n",
              "      <td>NaN</td>\n",
              "      <td>S</td>\n",
              "      <td>NaN</td>\n",
              "    </tr>\n",
              "    <tr>\n",
              "      <th>3</th>\n",
              "      <td>4</td>\n",
              "      <td>1</td>\n",
              "      <td>1</td>\n",
              "      <td>Futrelle, Mrs. Jacques Heath (Lily May Peel)</td>\n",
              "      <td>female</td>\n",
              "      <td>35.0</td>\n",
              "      <td>1</td>\n",
              "      <td>0</td>\n",
              "      <td>113803</td>\n",
              "      <td>53.1000</td>\n",
              "      <td>C123</td>\n",
              "      <td>S</td>\n",
              "      <td>NaN</td>\n",
              "    </tr>\n",
              "    <tr>\n",
              "      <th>4</th>\n",
              "      <td>5</td>\n",
              "      <td>0</td>\n",
              "      <td>3</td>\n",
              "      <td>Allen, Mr. William Henry</td>\n",
              "      <td>male</td>\n",
              "      <td>35.0</td>\n",
              "      <td>0</td>\n",
              "      <td>0</td>\n",
              "      <td>373450</td>\n",
              "      <td>8.0500</td>\n",
              "      <td>NaN</td>\n",
              "      <td>S</td>\n",
              "      <td>NaN</td>\n",
              "    </tr>\n",
              "    <tr>\n",
              "      <th>5</th>\n",
              "      <td>6</td>\n",
              "      <td>0</td>\n",
              "      <td>3</td>\n",
              "      <td>Moran, Mr. James</td>\n",
              "      <td>male</td>\n",
              "      <td>NaN</td>\n",
              "      <td>0</td>\n",
              "      <td>0</td>\n",
              "      <td>330877</td>\n",
              "      <td>8.4583</td>\n",
              "      <td>NaN</td>\n",
              "      <td>Q</td>\n",
              "      <td>NaN</td>\n",
              "    </tr>\n",
              "    <tr>\n",
              "      <th>6</th>\n",
              "      <td>7</td>\n",
              "      <td>0</td>\n",
              "      <td>1</td>\n",
              "      <td>McCarthy, Mr. Timothy J</td>\n",
              "      <td>male</td>\n",
              "      <td>54.0</td>\n",
              "      <td>0</td>\n",
              "      <td>0</td>\n",
              "      <td>17463</td>\n",
              "      <td>51.8625</td>\n",
              "      <td>E46</td>\n",
              "      <td>S</td>\n",
              "      <td>NaN</td>\n",
              "    </tr>\n",
              "    <tr>\n",
              "      <th>7</th>\n",
              "      <td>8</td>\n",
              "      <td>0</td>\n",
              "      <td>3</td>\n",
              "      <td>Palsson, Master. Gosta Leonard</td>\n",
              "      <td>male</td>\n",
              "      <td>2.0</td>\n",
              "      <td>3</td>\n",
              "      <td>1</td>\n",
              "      <td>349909</td>\n",
              "      <td>21.0750</td>\n",
              "      <td>NaN</td>\n",
              "      <td>S</td>\n",
              "      <td>NaN</td>\n",
              "    </tr>\n",
              "    <tr>\n",
              "      <th>8</th>\n",
              "      <td>9</td>\n",
              "      <td>1</td>\n",
              "      <td>3</td>\n",
              "      <td>Johnson, Mrs. Oscar W (Elisabeth Vilhelmina Berg)</td>\n",
              "      <td>female</td>\n",
              "      <td>27.0</td>\n",
              "      <td>0</td>\n",
              "      <td>2</td>\n",
              "      <td>347742</td>\n",
              "      <td>11.1333</td>\n",
              "      <td>NaN</td>\n",
              "      <td>S</td>\n",
              "      <td>NaN</td>\n",
              "    </tr>\n",
              "    <tr>\n",
              "      <th>9</th>\n",
              "      <td>10</td>\n",
              "      <td>1</td>\n",
              "      <td>2</td>\n",
              "      <td>Nasser, Mrs. Nicholas (Adele Achem)</td>\n",
              "      <td>female</td>\n",
              "      <td>14.0</td>\n",
              "      <td>1</td>\n",
              "      <td>0</td>\n",
              "      <td>237736</td>\n",
              "      <td>30.0708</td>\n",
              "      <td>NaN</td>\n",
              "      <td>C</td>\n",
              "      <td>NaN</td>\n",
              "    </tr>\n",
              "  </tbody>\n",
              "</table>\n",
              "</div>\n",
              "      <button class=\"colab-df-convert\" onclick=\"convertToInteractive('df-23bbaa6e-7280-401a-8bf3-ec65d71c15cc')\"\n",
              "              title=\"Convert this dataframe to an interactive table.\"\n",
              "              style=\"display:none;\">\n",
              "        \n",
              "  <svg xmlns=\"http://www.w3.org/2000/svg\" height=\"24px\"viewBox=\"0 0 24 24\"\n",
              "       width=\"24px\">\n",
              "    <path d=\"M0 0h24v24H0V0z\" fill=\"none\"/>\n",
              "    <path d=\"M18.56 5.44l.94 2.06.94-2.06 2.06-.94-2.06-.94-.94-2.06-.94 2.06-2.06.94zm-11 1L8.5 8.5l.94-2.06 2.06-.94-2.06-.94L8.5 2.5l-.94 2.06-2.06.94zm10 10l.94 2.06.94-2.06 2.06-.94-2.06-.94-.94-2.06-.94 2.06-2.06.94z\"/><path d=\"M17.41 7.96l-1.37-1.37c-.4-.4-.92-.59-1.43-.59-.52 0-1.04.2-1.43.59L10.3 9.45l-7.72 7.72c-.78.78-.78 2.05 0 2.83L4 21.41c.39.39.9.59 1.41.59.51 0 1.02-.2 1.41-.59l7.78-7.78 2.81-2.81c.8-.78.8-2.07 0-2.86zM5.41 20L4 18.59l7.72-7.72 1.47 1.35L5.41 20z\"/>\n",
              "  </svg>\n",
              "      </button>\n",
              "      \n",
              "  <style>\n",
              "    .colab-df-container {\n",
              "      display:flex;\n",
              "      flex-wrap:wrap;\n",
              "      gap: 12px;\n",
              "    }\n",
              "\n",
              "    .colab-df-convert {\n",
              "      background-color: #E8F0FE;\n",
              "      border: none;\n",
              "      border-radius: 50%;\n",
              "      cursor: pointer;\n",
              "      display: none;\n",
              "      fill: #1967D2;\n",
              "      height: 32px;\n",
              "      padding: 0 0 0 0;\n",
              "      width: 32px;\n",
              "    }\n",
              "\n",
              "    .colab-df-convert:hover {\n",
              "      background-color: #E2EBFA;\n",
              "      box-shadow: 0px 1px 2px rgba(60, 64, 67, 0.3), 0px 1px 3px 1px rgba(60, 64, 67, 0.15);\n",
              "      fill: #174EA6;\n",
              "    }\n",
              "\n",
              "    [theme=dark] .colab-df-convert {\n",
              "      background-color: #3B4455;\n",
              "      fill: #D2E3FC;\n",
              "    }\n",
              "\n",
              "    [theme=dark] .colab-df-convert:hover {\n",
              "      background-color: #434B5C;\n",
              "      box-shadow: 0px 1px 3px 1px rgba(0, 0, 0, 0.15);\n",
              "      filter: drop-shadow(0px 1px 2px rgba(0, 0, 0, 0.3));\n",
              "      fill: #FFFFFF;\n",
              "    }\n",
              "  </style>\n",
              "\n",
              "      <script>\n",
              "        const buttonEl =\n",
              "          document.querySelector('#df-23bbaa6e-7280-401a-8bf3-ec65d71c15cc button.colab-df-convert');\n",
              "        buttonEl.style.display =\n",
              "          google.colab.kernel.accessAllowed ? 'block' : 'none';\n",
              "\n",
              "        async function convertToInteractive(key) {\n",
              "          const element = document.querySelector('#df-23bbaa6e-7280-401a-8bf3-ec65d71c15cc');\n",
              "          const dataTable =\n",
              "            await google.colab.kernel.invokeFunction('convertToInteractive',\n",
              "                                                     [key], {});\n",
              "          if (!dataTable) return;\n",
              "\n",
              "          const docLinkHtml = 'Like what you see? Visit the ' +\n",
              "            '<a target=\"_blank\" href=https://colab.research.google.com/notebooks/data_table.ipynb>data table notebook</a>'\n",
              "            + ' to learn more about interactive tables.';\n",
              "          element.innerHTML = '';\n",
              "          dataTable['output_type'] = 'display_data';\n",
              "          await google.colab.output.renderOutput(dataTable, element);\n",
              "          const docLink = document.createElement('div');\n",
              "          docLink.innerHTML = docLinkHtml;\n",
              "          element.appendChild(docLink);\n",
              "        }\n",
              "      </script>\n",
              "    </div>\n",
              "  </div>\n",
              "  "
            ]
          },
          "metadata": {},
          "execution_count": 20
        }
      ]
    },
    {
      "cell_type": "code",
      "metadata": {
        "id": "j4AMPUshESSI",
        "colab": {
          "base_uri": "https://localhost:8080/"
        },
        "outputId": "9e424db6-6042-47d3-ae09-1d9a78a5e972"
      },
      "source": [
        "# Atribua 1 aos passageiros menores que 18 e 0 àqueles maiores (ou com 18).\n",
        "train[\"Child\"][train[\"Age\"] < 18] = 1\n",
        "train[\"Child\"][train[\"Age\"] >= 18] = 0\n",
        "\n",
        "# Mostre na tela a coluna nova: Child.\n",
        "print(train[\"Child\"])"
      ],
      "execution_count": 21,
      "outputs": [
        {
          "output_type": "stream",
          "name": "stdout",
          "text": [
            "0      0.0\n",
            "1      0.0\n",
            "2      0.0\n",
            "3      0.0\n",
            "4      0.0\n",
            "      ... \n",
            "886    0.0\n",
            "887    0.0\n",
            "888    NaN\n",
            "889    0.0\n",
            "890    0.0\n",
            "Name: Child, Length: 891, dtype: float64\n"
          ]
        },
        {
          "output_type": "stream",
          "name": "stderr",
          "text": [
            "/usr/local/lib/python3.7/dist-packages/ipykernel_launcher.py:2: SettingWithCopyWarning: \n",
            "A value is trying to be set on a copy of a slice from a DataFrame\n",
            "\n",
            "See the caveats in the documentation: https://pandas.pydata.org/pandas-docs/stable/user_guide/indexing.html#returning-a-view-versus-a-copy\n",
            "  \n",
            "/usr/local/lib/python3.7/dist-packages/ipykernel_launcher.py:3: SettingWithCopyWarning: \n",
            "A value is trying to be set on a copy of a slice from a DataFrame\n",
            "\n",
            "See the caveats in the documentation: https://pandas.pydata.org/pandas-docs/stable/user_guide/indexing.html#returning-a-view-versus-a-copy\n",
            "  This is separate from the ipykernel package so we can avoid doing imports until\n"
          ]
        }
      ]
    },
    {
      "cell_type": "code",
      "metadata": {
        "id": "R6BVtCefESSV",
        "colab": {
          "base_uri": "https://localhost:8080/"
        },
        "outputId": "b074951c-9ce6-4bf4-f703-33505fba7245"
      },
      "source": [
        "# Imprimir taxas de sobrevivência normalizadas\n",
        "#  para passageiros menores que 18\n",
        "print(train[\"Survived\"][train[\"Child\"] == 1].value_counts(normalize = True))"
      ],
      "execution_count": 23,
      "outputs": [
        {
          "output_type": "stream",
          "name": "stdout",
          "text": [
            "1    0.539823\n",
            "0    0.460177\n",
            "Name: Survived, dtype: float64\n"
          ]
        }
      ]
    },
    {
      "cell_type": "code",
      "metadata": {
        "id": "WDjYmEpNMdFD",
        "colab": {
          "base_uri": "https://localhost:8080/"
        },
        "outputId": "5ccf7665-f005-40d6-f5d1-d43468441aff"
      },
      "source": [
        "# Imprimir taxas de sobrevivência normalizadas\n",
        "#  para passageiros maiores que 18\n",
        "print(train[\"Survived\"][train[\"Child\"] == 0].value_counts(normalize = True))"
      ],
      "execution_count": 24,
      "outputs": [
        {
          "output_type": "stream",
          "name": "stdout",
          "text": [
            "0    0.618968\n",
            "1    0.381032\n",
            "Name: Survived, dtype: float64\n"
          ]
        }
      ]
    },
    {
      "cell_type": "markdown",
      "metadata": {
        "id": "9jRA21W8ESTH"
      },
      "source": [
        "## Primeira Predição\n",
        "\n",
        "Em um dos exercícios anteriores, você descobriu que, no seu conjunto de treinamento, o sexo feminino tinha mais de 50% de chance de sobreviver e o sexo masculino tinha menos de 50% de chance de sobreviver. Portanto, você pode usar essa informação para a sua primeira previsão: todas as pessoas do sexo feminino no conjunto de testes sobrevivem e todos do sexo masculino no mesmo conjunto morrem.\n",
        "\n",
        "Você utiliza seu conjunto de testes para validar suas previsões. Você pode ter visto que, ao contrário do conjunto de treinamento, o conjunto de testes não possui uma coluna `Survived`. Você adiciona essa coluna usando seus valores previstos. Em seguida, ao enviar seus resultados, o Kaggle usará **sua** variável (= suas previsões) para avaliar seu desempenho."
      ]
    },
    {
      "cell_type": "code",
      "metadata": {
        "id": "4qHfHwq8ESTJ"
      },
      "source": [
        "# Criar uma cópia do conjunto de testes: test_one\n",
        "test_one = test.copy()"
      ],
      "execution_count": 25,
      "outputs": []
    },
    {
      "cell_type": "code",
      "metadata": {
        "id": "Pq1By2gaESTU"
      },
      "source": [
        "# Adicione uma coluna adicional, Survived, e inicialize com zero.\n",
        "# Inicialize uma coluna Survived com 0\n",
        "test_one[\"Survived\"] = 0"
      ],
      "execution_count": 26,
      "outputs": []
    },
    {
      "cell_type": "code",
      "metadata": {
        "id": "MEY_TpL0ESTf",
        "colab": {
          "base_uri": "https://localhost:8080/"
        },
        "outputId": "978156b8-b208-46da-87b8-62760b5528db"
      },
      "source": [
        "# Defina Survived com 1 se Sex for igual a \"female\" e imprima a coluna `Survived` de` test_one`\n",
        "test_one[\"Survived\"][test_one[\"Sex\"] == 'female'] = 1\n",
        "test_one[\"Survived\"][test_one[\"Sex\"] == 'male'] = 0"
      ],
      "execution_count": 28,
      "outputs": [
        {
          "output_type": "stream",
          "name": "stderr",
          "text": [
            "/usr/local/lib/python3.7/dist-packages/ipykernel_launcher.py:2: SettingWithCopyWarning: \n",
            "A value is trying to be set on a copy of a slice from a DataFrame\n",
            "\n",
            "See the caveats in the documentation: https://pandas.pydata.org/pandas-docs/stable/user_guide/indexing.html#returning-a-view-versus-a-copy\n",
            "  \n",
            "/usr/local/lib/python3.7/dist-packages/ipykernel_launcher.py:3: SettingWithCopyWarning: \n",
            "A value is trying to be set on a copy of a slice from a DataFrame\n",
            "\n",
            "See the caveats in the documentation: https://pandas.pydata.org/pandas-docs/stable/user_guide/indexing.html#returning-a-view-versus-a-copy\n",
            "  This is separate from the ipykernel package so we can avoid doing imports until\n"
          ]
        }
      ]
    },
    {
      "cell_type": "code",
      "metadata": {
        "id": "SvHrPnGZJiS3",
        "colab": {
          "base_uri": "https://localhost:8080/"
        },
        "outputId": "58a32875-e30e-4955-8041-dff473457eae"
      },
      "source": [
        "print(test_one)"
      ],
      "execution_count": 29,
      "outputs": [
        {
          "output_type": "stream",
          "name": "stdout",
          "text": [
            "     PassengerId  Pclass                                          Name  \\\n",
            "0            892       3                              Kelly, Mr. James   \n",
            "1            893       3              Wilkes, Mrs. James (Ellen Needs)   \n",
            "2            894       2                     Myles, Mr. Thomas Francis   \n",
            "3            895       3                              Wirz, Mr. Albert   \n",
            "4            896       3  Hirvonen, Mrs. Alexander (Helga E Lindqvist)   \n",
            "..           ...     ...                                           ...   \n",
            "413         1305       3                            Spector, Mr. Woolf   \n",
            "414         1306       1                  Oliva y Ocana, Dona. Fermina   \n",
            "415         1307       3                  Saether, Mr. Simon Sivertsen   \n",
            "416         1308       3                           Ware, Mr. Frederick   \n",
            "417         1309       3                      Peter, Master. Michael J   \n",
            "\n",
            "        Sex   Age  SibSp  Parch              Ticket      Fare Cabin Embarked  \\\n",
            "0      male  34.5      0      0              330911    7.8292   NaN        Q   \n",
            "1    female  47.0      1      0              363272    7.0000   NaN        S   \n",
            "2      male  62.0      0      0              240276    9.6875   NaN        Q   \n",
            "3      male  27.0      0      0              315154    8.6625   NaN        S   \n",
            "4    female  22.0      1      1             3101298   12.2875   NaN        S   \n",
            "..      ...   ...    ...    ...                 ...       ...   ...      ...   \n",
            "413    male   NaN      0      0           A.5. 3236    8.0500   NaN        S   \n",
            "414  female  39.0      0      0            PC 17758  108.9000  C105        C   \n",
            "415    male  38.5      0      0  SOTON/O.Q. 3101262    7.2500   NaN        S   \n",
            "416    male   NaN      0      0              359309    8.0500   NaN        S   \n",
            "417    male   NaN      1      1                2668   22.3583   NaN        C   \n",
            "\n",
            "     Survived  \n",
            "0           0  \n",
            "1           1  \n",
            "2           0  \n",
            "3           0  \n",
            "4           1  \n",
            "..        ...  \n",
            "413         0  \n",
            "414         1  \n",
            "415         0  \n",
            "416         0  \n",
            "417         0  \n",
            "\n",
            "[418 rows x 12 columns]\n"
          ]
        }
      ]
    },
    {
      "cell_type": "code",
      "metadata": {
        "id": "2kDpfHHcESUG",
        "colab": {
          "base_uri": "https://localhost:8080/"
        },
        "outputId": "6efe95a5-0b23-4173-aa95-0812ebf10c0a"
      },
      "source": [
        "# Imprima a coluna Survived de previsões do conjunto de dados test_one.\n",
        "print(test_one[\"Survived\"])"
      ],
      "execution_count": 30,
      "outputs": [
        {
          "output_type": "stream",
          "name": "stdout",
          "text": [
            "0      0\n",
            "1      1\n",
            "2      0\n",
            "3      0\n",
            "4      1\n",
            "      ..\n",
            "413    0\n",
            "414    1\n",
            "415    0\n",
            "416    0\n",
            "417    0\n",
            "Name: Survived, Length: 418, dtype: int64\n"
          ]
        }
      ]
    },
    {
      "cell_type": "code",
      "metadata": {
        "id": "HM5gGWmqESUY",
        "colab": {
          "base_uri": "https://localhost:8080/"
        },
        "outputId": "900e5852-9e09-4e5b-900d-50a356ed42e7"
      },
      "source": [
        "test_one[\"PassengerId\"].values"
      ],
      "execution_count": 32,
      "outputs": [
        {
          "output_type": "execute_result",
          "data": {
            "text/plain": [
              "array([ 892,  893,  894,  895,  896,  897,  898,  899,  900,  901,  902,\n",
              "        903,  904,  905,  906,  907,  908,  909,  910,  911,  912,  913,\n",
              "        914,  915,  916,  917,  918,  919,  920,  921,  922,  923,  924,\n",
              "        925,  926,  927,  928,  929,  930,  931,  932,  933,  934,  935,\n",
              "        936,  937,  938,  939,  940,  941,  942,  943,  944,  945,  946,\n",
              "        947,  948,  949,  950,  951,  952,  953,  954,  955,  956,  957,\n",
              "        958,  959,  960,  961,  962,  963,  964,  965,  966,  967,  968,\n",
              "        969,  970,  971,  972,  973,  974,  975,  976,  977,  978,  979,\n",
              "        980,  981,  982,  983,  984,  985,  986,  987,  988,  989,  990,\n",
              "        991,  992,  993,  994,  995,  996,  997,  998,  999, 1000, 1001,\n",
              "       1002, 1003, 1004, 1005, 1006, 1007, 1008, 1009, 1010, 1011, 1012,\n",
              "       1013, 1014, 1015, 1016, 1017, 1018, 1019, 1020, 1021, 1022, 1023,\n",
              "       1024, 1025, 1026, 1027, 1028, 1029, 1030, 1031, 1032, 1033, 1034,\n",
              "       1035, 1036, 1037, 1038, 1039, 1040, 1041, 1042, 1043, 1044, 1045,\n",
              "       1046, 1047, 1048, 1049, 1050, 1051, 1052, 1053, 1054, 1055, 1056,\n",
              "       1057, 1058, 1059, 1060, 1061, 1062, 1063, 1064, 1065, 1066, 1067,\n",
              "       1068, 1069, 1070, 1071, 1072, 1073, 1074, 1075, 1076, 1077, 1078,\n",
              "       1079, 1080, 1081, 1082, 1083, 1084, 1085, 1086, 1087, 1088, 1089,\n",
              "       1090, 1091, 1092, 1093, 1094, 1095, 1096, 1097, 1098, 1099, 1100,\n",
              "       1101, 1102, 1103, 1104, 1105, 1106, 1107, 1108, 1109, 1110, 1111,\n",
              "       1112, 1113, 1114, 1115, 1116, 1117, 1118, 1119, 1120, 1121, 1122,\n",
              "       1123, 1124, 1125, 1126, 1127, 1128, 1129, 1130, 1131, 1132, 1133,\n",
              "       1134, 1135, 1136, 1137, 1138, 1139, 1140, 1141, 1142, 1143, 1144,\n",
              "       1145, 1146, 1147, 1148, 1149, 1150, 1151, 1152, 1153, 1154, 1155,\n",
              "       1156, 1157, 1158, 1159, 1160, 1161, 1162, 1163, 1164, 1165, 1166,\n",
              "       1167, 1168, 1169, 1170, 1171, 1172, 1173, 1174, 1175, 1176, 1177,\n",
              "       1178, 1179, 1180, 1181, 1182, 1183, 1184, 1185, 1186, 1187, 1188,\n",
              "       1189, 1190, 1191, 1192, 1193, 1194, 1195, 1196, 1197, 1198, 1199,\n",
              "       1200, 1201, 1202, 1203, 1204, 1205, 1206, 1207, 1208, 1209, 1210,\n",
              "       1211, 1212, 1213, 1214, 1215, 1216, 1217, 1218, 1219, 1220, 1221,\n",
              "       1222, 1223, 1224, 1225, 1226, 1227, 1228, 1229, 1230, 1231, 1232,\n",
              "       1233, 1234, 1235, 1236, 1237, 1238, 1239, 1240, 1241, 1242, 1243,\n",
              "       1244, 1245, 1246, 1247, 1248, 1249, 1250, 1251, 1252, 1253, 1254,\n",
              "       1255, 1256, 1257, 1258, 1259, 1260, 1261, 1262, 1263, 1264, 1265,\n",
              "       1266, 1267, 1268, 1269, 1270, 1271, 1272, 1273, 1274, 1275, 1276,\n",
              "       1277, 1278, 1279, 1280, 1281, 1282, 1283, 1284, 1285, 1286, 1287,\n",
              "       1288, 1289, 1290, 1291, 1292, 1293, 1294, 1295, 1296, 1297, 1298,\n",
              "       1299, 1300, 1301, 1302, 1303, 1304, 1305, 1306, 1307, 1308, 1309])"
            ]
          },
          "metadata": {},
          "execution_count": 32
        }
      ]
    },
    {
      "cell_type": "code",
      "metadata": {
        "id": "Rs-e9XuOESUx",
        "colab": {
          "base_uri": "https://localhost:8080/"
        },
        "outputId": "8303145d-ff37-4ebe-dfb0-e418d9ea0364"
      },
      "source": [
        "test_one[\"Survived\"].values"
      ],
      "execution_count": 33,
      "outputs": [
        {
          "output_type": "execute_result",
          "data": {
            "text/plain": [
              "array([0, 1, 0, 0, 1, 0, 1, 0, 1, 0, 0, 0, 1, 0, 1, 1, 0, 0, 1, 1, 0, 0,\n",
              "       1, 0, 1, 0, 1, 0, 0, 0, 0, 0, 1, 1, 0, 0, 1, 1, 0, 0, 0, 0, 0, 1,\n",
              "       1, 0, 0, 0, 1, 1, 0, 0, 1, 1, 0, 0, 0, 0, 0, 1, 0, 0, 0, 1, 0, 1,\n",
              "       1, 0, 0, 1, 1, 0, 1, 0, 1, 0, 0, 1, 0, 1, 0, 0, 0, 0, 0, 0, 1, 1,\n",
              "       1, 0, 1, 0, 1, 0, 0, 0, 1, 0, 1, 0, 1, 0, 0, 0, 1, 0, 0, 0, 0, 0,\n",
              "       0, 1, 1, 1, 1, 0, 0, 1, 0, 1, 1, 0, 1, 0, 0, 1, 0, 1, 0, 0, 0, 0,\n",
              "       1, 0, 0, 0, 0, 0, 1, 0, 1, 1, 0, 0, 0, 0, 0, 0, 0, 0, 1, 0, 0, 1,\n",
              "       0, 0, 1, 1, 0, 1, 1, 0, 1, 0, 0, 1, 0, 0, 1, 1, 0, 0, 0, 0, 0, 1,\n",
              "       1, 0, 1, 1, 0, 0, 1, 0, 1, 0, 1, 0, 1, 0, 0, 0, 0, 0, 0, 0, 0, 1,\n",
              "       0, 1, 1, 0, 0, 1, 0, 0, 1, 0, 1, 0, 0, 0, 0, 1, 1, 0, 1, 0, 1, 0,\n",
              "       1, 0, 1, 0, 1, 1, 0, 1, 0, 0, 0, 1, 0, 0, 0, 0, 0, 0, 1, 1, 1, 1,\n",
              "       0, 0, 0, 0, 1, 0, 1, 1, 1, 0, 0, 0, 0, 0, 0, 0, 1, 0, 0, 0, 1, 1,\n",
              "       0, 0, 0, 0, 1, 0, 0, 0, 1, 1, 0, 1, 0, 0, 0, 0, 1, 0, 1, 1, 1, 0,\n",
              "       0, 0, 0, 0, 0, 1, 0, 0, 0, 0, 1, 0, 0, 0, 0, 0, 0, 0, 1, 1, 0, 0,\n",
              "       0, 1, 0, 0, 0, 1, 1, 1, 0, 0, 0, 0, 0, 0, 0, 0, 1, 0, 1, 0, 0, 0,\n",
              "       1, 0, 0, 1, 0, 0, 0, 0, 0, 0, 0, 0, 0, 1, 0, 1, 0, 1, 0, 1, 1, 0,\n",
              "       0, 0, 1, 0, 1, 0, 0, 1, 0, 1, 1, 0, 1, 1, 0, 1, 1, 0, 0, 1, 0, 0,\n",
              "       1, 1, 1, 0, 0, 0, 0, 0, 1, 1, 0, 1, 0, 0, 0, 0, 0, 1, 0, 0, 0, 1,\n",
              "       0, 1, 0, 0, 1, 0, 1, 0, 0, 0, 0, 0, 1, 1, 1, 1, 1, 0, 1, 0, 0, 0])"
            ]
          },
          "metadata": {},
          "execution_count": 33
        }
      ]
    },
    {
      "cell_type": "code",
      "metadata": {
        "id": "hTk3d3zSESU_",
        "colab": {
          "base_uri": "https://localhost:8080/"
        },
        "outputId": "97720bac-feb7-48ca-b3ba-bf7c6a07a79e"
      },
      "source": [
        "submit = test_one[\"PassengerId\"].values, test_one[\"Survived\"].values\n",
        "submit"
      ],
      "execution_count": 34,
      "outputs": [
        {
          "output_type": "execute_result",
          "data": {
            "text/plain": [
              "(array([ 892,  893,  894,  895,  896,  897,  898,  899,  900,  901,  902,\n",
              "         903,  904,  905,  906,  907,  908,  909,  910,  911,  912,  913,\n",
              "         914,  915,  916,  917,  918,  919,  920,  921,  922,  923,  924,\n",
              "         925,  926,  927,  928,  929,  930,  931,  932,  933,  934,  935,\n",
              "         936,  937,  938,  939,  940,  941,  942,  943,  944,  945,  946,\n",
              "         947,  948,  949,  950,  951,  952,  953,  954,  955,  956,  957,\n",
              "         958,  959,  960,  961,  962,  963,  964,  965,  966,  967,  968,\n",
              "         969,  970,  971,  972,  973,  974,  975,  976,  977,  978,  979,\n",
              "         980,  981,  982,  983,  984,  985,  986,  987,  988,  989,  990,\n",
              "         991,  992,  993,  994,  995,  996,  997,  998,  999, 1000, 1001,\n",
              "        1002, 1003, 1004, 1005, 1006, 1007, 1008, 1009, 1010, 1011, 1012,\n",
              "        1013, 1014, 1015, 1016, 1017, 1018, 1019, 1020, 1021, 1022, 1023,\n",
              "        1024, 1025, 1026, 1027, 1028, 1029, 1030, 1031, 1032, 1033, 1034,\n",
              "        1035, 1036, 1037, 1038, 1039, 1040, 1041, 1042, 1043, 1044, 1045,\n",
              "        1046, 1047, 1048, 1049, 1050, 1051, 1052, 1053, 1054, 1055, 1056,\n",
              "        1057, 1058, 1059, 1060, 1061, 1062, 1063, 1064, 1065, 1066, 1067,\n",
              "        1068, 1069, 1070, 1071, 1072, 1073, 1074, 1075, 1076, 1077, 1078,\n",
              "        1079, 1080, 1081, 1082, 1083, 1084, 1085, 1086, 1087, 1088, 1089,\n",
              "        1090, 1091, 1092, 1093, 1094, 1095, 1096, 1097, 1098, 1099, 1100,\n",
              "        1101, 1102, 1103, 1104, 1105, 1106, 1107, 1108, 1109, 1110, 1111,\n",
              "        1112, 1113, 1114, 1115, 1116, 1117, 1118, 1119, 1120, 1121, 1122,\n",
              "        1123, 1124, 1125, 1126, 1127, 1128, 1129, 1130, 1131, 1132, 1133,\n",
              "        1134, 1135, 1136, 1137, 1138, 1139, 1140, 1141, 1142, 1143, 1144,\n",
              "        1145, 1146, 1147, 1148, 1149, 1150, 1151, 1152, 1153, 1154, 1155,\n",
              "        1156, 1157, 1158, 1159, 1160, 1161, 1162, 1163, 1164, 1165, 1166,\n",
              "        1167, 1168, 1169, 1170, 1171, 1172, 1173, 1174, 1175, 1176, 1177,\n",
              "        1178, 1179, 1180, 1181, 1182, 1183, 1184, 1185, 1186, 1187, 1188,\n",
              "        1189, 1190, 1191, 1192, 1193, 1194, 1195, 1196, 1197, 1198, 1199,\n",
              "        1200, 1201, 1202, 1203, 1204, 1205, 1206, 1207, 1208, 1209, 1210,\n",
              "        1211, 1212, 1213, 1214, 1215, 1216, 1217, 1218, 1219, 1220, 1221,\n",
              "        1222, 1223, 1224, 1225, 1226, 1227, 1228, 1229, 1230, 1231, 1232,\n",
              "        1233, 1234, 1235, 1236, 1237, 1238, 1239, 1240, 1241, 1242, 1243,\n",
              "        1244, 1245, 1246, 1247, 1248, 1249, 1250, 1251, 1252, 1253, 1254,\n",
              "        1255, 1256, 1257, 1258, 1259, 1260, 1261, 1262, 1263, 1264, 1265,\n",
              "        1266, 1267, 1268, 1269, 1270, 1271, 1272, 1273, 1274, 1275, 1276,\n",
              "        1277, 1278, 1279, 1280, 1281, 1282, 1283, 1284, 1285, 1286, 1287,\n",
              "        1288, 1289, 1290, 1291, 1292, 1293, 1294, 1295, 1296, 1297, 1298,\n",
              "        1299, 1300, 1301, 1302, 1303, 1304, 1305, 1306, 1307, 1308, 1309]),\n",
              " array([0, 1, 0, 0, 1, 0, 1, 0, 1, 0, 0, 0, 1, 0, 1, 1, 0, 0, 1, 1, 0, 0,\n",
              "        1, 0, 1, 0, 1, 0, 0, 0, 0, 0, 1, 1, 0, 0, 1, 1, 0, 0, 0, 0, 0, 1,\n",
              "        1, 0, 0, 0, 1, 1, 0, 0, 1, 1, 0, 0, 0, 0, 0, 1, 0, 0, 0, 1, 0, 1,\n",
              "        1, 0, 0, 1, 1, 0, 1, 0, 1, 0, 0, 1, 0, 1, 0, 0, 0, 0, 0, 0, 1, 1,\n",
              "        1, 0, 1, 0, 1, 0, 0, 0, 1, 0, 1, 0, 1, 0, 0, 0, 1, 0, 0, 0, 0, 0,\n",
              "        0, 1, 1, 1, 1, 0, 0, 1, 0, 1, 1, 0, 1, 0, 0, 1, 0, 1, 0, 0, 0, 0,\n",
              "        1, 0, 0, 0, 0, 0, 1, 0, 1, 1, 0, 0, 0, 0, 0, 0, 0, 0, 1, 0, 0, 1,\n",
              "        0, 0, 1, 1, 0, 1, 1, 0, 1, 0, 0, 1, 0, 0, 1, 1, 0, 0, 0, 0, 0, 1,\n",
              "        1, 0, 1, 1, 0, 0, 1, 0, 1, 0, 1, 0, 1, 0, 0, 0, 0, 0, 0, 0, 0, 1,\n",
              "        0, 1, 1, 0, 0, 1, 0, 0, 1, 0, 1, 0, 0, 0, 0, 1, 1, 0, 1, 0, 1, 0,\n",
              "        1, 0, 1, 0, 1, 1, 0, 1, 0, 0, 0, 1, 0, 0, 0, 0, 0, 0, 1, 1, 1, 1,\n",
              "        0, 0, 0, 0, 1, 0, 1, 1, 1, 0, 0, 0, 0, 0, 0, 0, 1, 0, 0, 0, 1, 1,\n",
              "        0, 0, 0, 0, 1, 0, 0, 0, 1, 1, 0, 1, 0, 0, 0, 0, 1, 0, 1, 1, 1, 0,\n",
              "        0, 0, 0, 0, 0, 1, 0, 0, 0, 0, 1, 0, 0, 0, 0, 0, 0, 0, 1, 1, 0, 0,\n",
              "        0, 1, 0, 0, 0, 1, 1, 1, 0, 0, 0, 0, 0, 0, 0, 0, 1, 0, 1, 0, 0, 0,\n",
              "        1, 0, 0, 1, 0, 0, 0, 0, 0, 0, 0, 0, 0, 1, 0, 1, 0, 1, 0, 1, 1, 0,\n",
              "        0, 0, 1, 0, 1, 0, 0, 1, 0, 1, 1, 0, 1, 1, 0, 1, 1, 0, 0, 1, 0, 0,\n",
              "        1, 1, 1, 0, 0, 0, 0, 0, 1, 1, 0, 1, 0, 0, 0, 0, 0, 1, 0, 0, 0, 1,\n",
              "        0, 1, 0, 0, 1, 0, 1, 0, 0, 0, 0, 0, 1, 1, 1, 1, 1, 0, 1, 0, 0, 0]))"
            ]
          },
          "metadata": {},
          "execution_count": 34
        }
      ]
    },
    {
      "cell_type": "markdown",
      "metadata": {
        "id": "S5A54RTSESVL"
      },
      "source": [
        "## Introdução as árvores de decisão\n",
        "\n",
        "No capítulo anterior, você fez toda uma segmentação para encontrar subconjuntos que têm uma chance maior de sobreviver. Uma árvore de decisão automatiza esse processo para você e gera um modelo de classificação ou classificador.\n",
        "\n",
        "Conceitualmente, o algoritmo da árvore de decisão começa com todos os dados no nó raiz e varre todas as variáveis para a melhor divisão. Quando uma variável é escolhida, você faz a divisão e desce um nível (ou um nó) e repete. Os nós finais na parte inferior da árvore de decisão são conhecidos como nós terminais, e o voto majoritário das observações nesse nó determina como prever novas observações que param nesse nó terminal.\n",
        "\n",
        "Primeiro, vamos importar as bibliotecas necessárias:\n",
        "\n",
        "    Import the numpy library as np\n",
        "    From sklearn import the tree\n"
      ]
    },
    {
      "cell_type": "code",
      "metadata": {
        "id": "Uiis-gmDESVM"
      },
      "source": [
        "# Importe a biblioteca Numpy\n",
        "import numpy as np\n",
        "# Importe 'tree' da biblioteca scikit-learn\n",
        "from sklearn import tree"
      ],
      "execution_count": 35,
      "outputs": []
    },
    {
      "cell_type": "markdown",
      "metadata": {
        "id": "eANbgN2BESVU"
      },
      "source": [
        "## Limpando e formatando seus dados\n",
        "\n",
        "Antes de começar a construir suas árvores, você precisa sujar as mãos e limpar os dados para poder usar todos os recursos disponíveis para você. No primeiro capítulo, vimos que a variável `Age` tinha algum valor faltante (missing value). A falta de dados por si só já é um assunto para investigar mais profundamente, mas nós usaremos uma técnica de imputação simples onde substituímos cada valor perdido com a `mediana` dos valores presentes.\n",
        "\n",
        "    train[\"Age\"] = train[\"Age\"].fillna(train[\"Age\"].median())\n",
        "\n",
        "Outro problema é que as variáveis `Sex` e` Embarked` são categóricas **mas** em formato não numérico. Assim, precisaremos atribuir a cada classe um inteiro único para que o Python possa manipular as informações. `Embarked` também tem alguns valores perdidos que você deve imputar com a classe mais comum de embarque, que é `\" S \"`."
      ]
    },
    {
      "cell_type": "code",
      "metadata": {
        "id": "0EfqqMu6ESVV"
      },
      "source": [
        "train[\"Age\"] = train[\"Age\"].fillna(train[\"Age\"].median())\n",
        "test_one[\"Age\"] = test_one[\"Age\"].fillna(test_one[\"Age\"].median())"
      ],
      "execution_count": 36,
      "outputs": []
    },
    {
      "cell_type": "code",
      "metadata": {
        "id": "s4ijnOF3ESVd"
      },
      "source": [
        "# Descomentem e testem quando finalizarem essa aula\n",
        "# Testem após a linha anterior para ver o que acontece\n",
        "# train[\"Age\"] = train[\"Age\"].dropna()\n",
        "\n",
        "# Resposta: remove os valores ausentes da coluna \"Age\""
      ],
      "execution_count": null,
      "outputs": []
    },
    {
      "cell_type": "code",
      "metadata": {
        "id": "NIwpRys9ESVl",
        "colab": {
          "base_uri": "https://localhost:8080/"
        },
        "outputId": "4bbb2bf3-dd26-499f-bc93-8c7070a54aab"
      },
      "source": [
        "# Converta os grupos mulheres e homens para a forma inteira\n",
        "# Atribua o valor inteiro 1 para todas as mulheres\n",
        "train[\"Sex\"][train[\"Sex\"] == \"male\"] = 0\n",
        "train[\"Sex\"][train[\"Sex\"] == \"female\"] = 1\n",
        "test_one[\"Sex\"][test_one[\"Sex\"] == \"male\"] = 0\n",
        "test_one[\"Sex\"][test_one[\"Sex\"] == \"female\"] = 1"
      ],
      "execution_count": 37,
      "outputs": [
        {
          "output_type": "stream",
          "name": "stderr",
          "text": [
            "/usr/local/lib/python3.7/dist-packages/ipykernel_launcher.py:3: SettingWithCopyWarning: \n",
            "A value is trying to be set on a copy of a slice from a DataFrame\n",
            "\n",
            "See the caveats in the documentation: https://pandas.pydata.org/pandas-docs/stable/user_guide/indexing.html#returning-a-view-versus-a-copy\n",
            "  This is separate from the ipykernel package so we can avoid doing imports until\n",
            "/usr/local/lib/python3.7/dist-packages/ipykernel_launcher.py:4: SettingWithCopyWarning: \n",
            "A value is trying to be set on a copy of a slice from a DataFrame\n",
            "\n",
            "See the caveats in the documentation: https://pandas.pydata.org/pandas-docs/stable/user_guide/indexing.html#returning-a-view-versus-a-copy\n",
            "  after removing the cwd from sys.path.\n",
            "/usr/local/lib/python3.7/dist-packages/ipykernel_launcher.py:5: SettingWithCopyWarning: \n",
            "A value is trying to be set on a copy of a slice from a DataFrame\n",
            "\n",
            "See the caveats in the documentation: https://pandas.pydata.org/pandas-docs/stable/user_guide/indexing.html#returning-a-view-versus-a-copy\n",
            "  \"\"\"\n",
            "/usr/local/lib/python3.7/dist-packages/ipykernel_launcher.py:6: SettingWithCopyWarning: \n",
            "A value is trying to be set on a copy of a slice from a DataFrame\n",
            "\n",
            "See the caveats in the documentation: https://pandas.pydata.org/pandas-docs/stable/user_guide/indexing.html#returning-a-view-versus-a-copy\n",
            "  \n"
          ]
        }
      ]
    },
    {
      "cell_type": "code",
      "metadata": {
        "id": "i9Xs374dESVs"
      },
      "source": [
        "# \"Imputar\" a variável Embarked\n",
        "# \"Imputar\" os missing values em Embarked com classe S. Use o método .fillna().\n",
        "train[\"Embarked\"] = train[\"Embarked\"].fillna(\"S\")\n",
        "test_one[\"Embarked\"] = test_one[\"Embarked\"].fillna(\"S\")"
      ],
      "execution_count": 39,
      "outputs": []
    },
    {
      "cell_type": "code",
      "metadata": {
        "id": "n1U_MrLCESVy",
        "colab": {
          "base_uri": "https://localhost:8080/"
        },
        "outputId": "8784f47a-6e7a-4fa3-a54d-b2698aee4a68"
      },
      "source": [
        "# Substitua cada classe de Embarked com inteiros únicos.\n",
        "# 0 para S, 1 para C, e 2 para Q.\n",
        "# Converta as classes de Embarked para inteiros\n",
        "\n",
        "train[\"Embarked\"][train[\"Embarked\"] == \"S\"] = 0\n",
        "train[\"Embarked\"][train[\"Embarked\"] == \"C\"] = 1\n",
        "train[\"Embarked\"][train[\"Embarked\"] == \"Q\"] = 2"
      ],
      "execution_count": 40,
      "outputs": [
        {
          "output_type": "stream",
          "name": "stderr",
          "text": [
            "/usr/local/lib/python3.7/dist-packages/ipykernel_launcher.py:5: SettingWithCopyWarning: \n",
            "A value is trying to be set on a copy of a slice from a DataFrame\n",
            "\n",
            "See the caveats in the documentation: https://pandas.pydata.org/pandas-docs/stable/user_guide/indexing.html#returning-a-view-versus-a-copy\n",
            "  \"\"\"\n",
            "/usr/local/lib/python3.7/dist-packages/ipykernel_launcher.py:6: SettingWithCopyWarning: \n",
            "A value is trying to be set on a copy of a slice from a DataFrame\n",
            "\n",
            "See the caveats in the documentation: https://pandas.pydata.org/pandas-docs/stable/user_guide/indexing.html#returning-a-view-versus-a-copy\n",
            "  \n",
            "/usr/local/lib/python3.7/dist-packages/ipykernel_launcher.py:7: SettingWithCopyWarning: \n",
            "A value is trying to be set on a copy of a slice from a DataFrame\n",
            "\n",
            "See the caveats in the documentation: https://pandas.pydata.org/pandas-docs/stable/user_guide/indexing.html#returning-a-view-versus-a-copy\n",
            "  import sys\n"
          ]
        }
      ]
    },
    {
      "cell_type": "code",
      "metadata": {
        "id": "KDNpiOTlESV6",
        "colab": {
          "base_uri": "https://localhost:8080/"
        },
        "outputId": "46fe8a35-aa7b-4e16-87a6-ce30500ba565"
      },
      "source": [
        "# Substitua cada classe de Embarked com inteiros únicos.\n",
        "# 0 para S, 1 para C, e 2 para Q.\n",
        "# Converta as classes de Embarked para inteiros\n",
        "\n",
        "test_one[\"Embarked\"][test_one[\"Embarked\"] == \"S\"] = 0\n",
        "test_one[\"Embarked\"][test_one[\"Embarked\"] == \"C\"] = 1\n",
        "test_one[\"Embarked\"][test_one[\"Embarked\"] == \"Q\"] = 2"
      ],
      "execution_count": 41,
      "outputs": [
        {
          "output_type": "stream",
          "name": "stderr",
          "text": [
            "/usr/local/lib/python3.7/dist-packages/ipykernel_launcher.py:5: SettingWithCopyWarning: \n",
            "A value is trying to be set on a copy of a slice from a DataFrame\n",
            "\n",
            "See the caveats in the documentation: https://pandas.pydata.org/pandas-docs/stable/user_guide/indexing.html#returning-a-view-versus-a-copy\n",
            "  \"\"\"\n",
            "/usr/local/lib/python3.7/dist-packages/ipykernel_launcher.py:6: SettingWithCopyWarning: \n",
            "A value is trying to be set on a copy of a slice from a DataFrame\n",
            "\n",
            "See the caveats in the documentation: https://pandas.pydata.org/pandas-docs/stable/user_guide/indexing.html#returning-a-view-versus-a-copy\n",
            "  \n",
            "/usr/local/lib/python3.7/dist-packages/ipykernel_launcher.py:7: SettingWithCopyWarning: \n",
            "A value is trying to be set on a copy of a slice from a DataFrame\n",
            "\n",
            "See the caveats in the documentation: https://pandas.pydata.org/pandas-docs/stable/user_guide/indexing.html#returning-a-view-versus-a-copy\n",
            "  import sys\n"
          ]
        }
      ]
    },
    {
      "cell_type": "code",
      "metadata": {
        "id": "LvztbbbIESV_",
        "colab": {
          "base_uri": "https://localhost:8080/"
        },
        "outputId": "d47926fb-ae93-40f9-97c6-7c88768d1d3c"
      },
      "source": [
        "# Mostre as colunas Sex e Embarked\n",
        "print(train[\"Sex\"])\n",
        "print(train[\"Embarked\"])"
      ],
      "execution_count": 42,
      "outputs": [
        {
          "output_type": "stream",
          "name": "stdout",
          "text": [
            "0      0\n",
            "1      1\n",
            "2      1\n",
            "3      1\n",
            "4      0\n",
            "      ..\n",
            "886    0\n",
            "887    1\n",
            "888    1\n",
            "889    0\n",
            "890    0\n",
            "Name: Sex, Length: 891, dtype: object\n",
            "0      0\n",
            "1      1\n",
            "2      0\n",
            "3      0\n",
            "4      0\n",
            "      ..\n",
            "886    0\n",
            "887    0\n",
            "888    0\n",
            "889    1\n",
            "890    2\n",
            "Name: Embarked, Length: 891, dtype: object\n"
          ]
        }
      ]
    },
    {
      "cell_type": "markdown",
      "metadata": {
        "id": "Qzb198ewESWG"
      },
      "source": [
        "## Criando sua primeira árvore de decisão\n",
        "\n",
        "Utilizando as bibliotecas `scikit-learn` e `numpy` construiremos nosso primeiro modelo de árvore de decisão. `scikit-learn` pode ser utilizada para criar objetos tipo árvore a partir da classe `DecisionTreeClassifier`. Os métodos que utilizaremos recebem arrays `numpy` como entradas e então precisamos acessar nossas entradas com o `DataFrame` que já temos. Construímos a árvore de decisão da seguinte forma:\n",
        "\n",
        "* target: Um array unidimensional `numpy` contendo o alvo/resposta do conjunto de treinamento. (Survival neste caso)\n",
        "* features: Um array multidimensional `numpy` contendo as features/preditores do conjunto de treinamento. (ex. Sex, Age)\n",
        "\n",
        "Veja o trecho de código abaixo para entender como deve parecer essa etapa:\n",
        "\n",
        "    target = train[\"Survived\"].values\n",
        "\n",
        "    features = train[[\"Sex\", \"Age\"]].values\n",
        "\n",
        "    my_tree = tree.DecisionTreeClassifier()\n",
        "\n",
        "    my_tree = my_tree.fit(features, target)\n"
      ]
    },
    {
      "cell_type": "markdown",
      "metadata": {
        "id": "5AX_CPM0ESWG"
      },
      "source": [
        "Uma forma rápida de ver o resultado da árvore de decisão é ver qual a importância das features incluídas no treinamento. Isto é feito requisitando o atributo `.feature_importances_ attribute` do seu objeto (da árvore). Outra métrica rápida é medir a acurácia que você pode computar utilizando a função `.score()` com `features_one` e `target` como argumentos.\n",
        "\n",
        "Certo?! É hora de você construir sua primeira árvore de decisão em Python! Os dados de treinamento `train` e de teste `testing` já estão disponíveis."
      ]
    },
    {
      "cell_type": "code",
      "metadata": {
        "id": "bjoSaDfQESWJ",
        "colab": {
          "base_uri": "https://localhost:8080/"
        },
        "outputId": "4e91a609-0879-4c36-9c90-9a95c96427c0"
      },
      "source": [
        "# Mostrar as informações sobre os dados de treinamento\n",
        "print(train)"
      ],
      "execution_count": 43,
      "outputs": [
        {
          "output_type": "stream",
          "name": "stdout",
          "text": [
            "     PassengerId  Survived  Pclass  \\\n",
            "0              1         0       3   \n",
            "1              2         1       1   \n",
            "2              3         1       3   \n",
            "3              4         1       1   \n",
            "4              5         0       3   \n",
            "..           ...       ...     ...   \n",
            "886          887         0       2   \n",
            "887          888         1       1   \n",
            "888          889         0       3   \n",
            "889          890         1       1   \n",
            "890          891         0       3   \n",
            "\n",
            "                                                  Name Sex   Age  SibSp  \\\n",
            "0                              Braund, Mr. Owen Harris   0  22.0      1   \n",
            "1    Cumings, Mrs. John Bradley (Florence Briggs Th...   1  38.0      1   \n",
            "2                               Heikkinen, Miss. Laina   1  26.0      0   \n",
            "3         Futrelle, Mrs. Jacques Heath (Lily May Peel)   1  35.0      1   \n",
            "4                             Allen, Mr. William Henry   0  35.0      0   \n",
            "..                                                 ...  ..   ...    ...   \n",
            "886                              Montvila, Rev. Juozas   0  27.0      0   \n",
            "887                       Graham, Miss. Margaret Edith   1  19.0      0   \n",
            "888           Johnston, Miss. Catherine Helen \"Carrie\"   1  28.0      1   \n",
            "889                              Behr, Mr. Karl Howell   0  26.0      0   \n",
            "890                                Dooley, Mr. Patrick   0  32.0      0   \n",
            "\n",
            "     Parch            Ticket     Fare Cabin Embarked  Child  \n",
            "0        0         A/5 21171   7.2500   NaN        0    0.0  \n",
            "1        0          PC 17599  71.2833   C85        1    0.0  \n",
            "2        0  STON/O2. 3101282   7.9250   NaN        0    0.0  \n",
            "3        0            113803  53.1000  C123        0    0.0  \n",
            "4        0            373450   8.0500   NaN        0    0.0  \n",
            "..     ...               ...      ...   ...      ...    ...  \n",
            "886      0            211536  13.0000   NaN        0    0.0  \n",
            "887      0            112053  30.0000   B42        0    0.0  \n",
            "888      2        W./C. 6607  23.4500   NaN        0    NaN  \n",
            "889      0            111369  30.0000  C148        1    0.0  \n",
            "890      0            370376   7.7500   NaN        2    0.0  \n",
            "\n",
            "[891 rows x 13 columns]\n"
          ]
        }
      ]
    },
    {
      "cell_type": "code",
      "metadata": {
        "id": "qrX43PfnESWU",
        "colab": {
          "base_uri": "https://localhost:8080/"
        },
        "outputId": "dd305846-bd17-4960-9119-b6dd3ba6b1e8"
      },
      "source": [
        "# Construa os arrays numpy de alvo/objetivo `target` e `features_one`. \n",
        "# O objetivo é baseado na coluna Survived em train. \n",
        "# O vetor com a entrada baseia-se nas variáveis Passenger, Class, Sex, Age, e Passenger Fare\n",
        "# Crie os arrays numpy: target, features_one\n",
        "target = train[\"Survived\"].values  # Complete com o nome correto da coluna\n",
        "features_one = train[[\"Pclass\", \"Sex\", \"Age\", \"Fare\", \"SibSp\", \"Embarked\"]].values\n",
        "print(features_one)"
      ],
      "execution_count": 44,
      "outputs": [
        {
          "output_type": "stream",
          "name": "stdout",
          "text": [
            "[[3 0 22.0 7.25 1 0]\n",
            " [1 1 38.0 71.2833 1 1]\n",
            " [3 1 26.0 7.925 0 0]\n",
            " ...\n",
            " [3 1 28.0 23.45 1 0]\n",
            " [1 0 26.0 30.0 0 1]\n",
            " [3 0 32.0 7.75 0 2]]\n"
          ]
        }
      ]
    },
    {
      "cell_type": "code",
      "metadata": {
        "id": "GYOFV5nLESWb"
      },
      "source": [
        "# Construa a árvore de decisão my_tree_one para predizer a sobrevivência utilizando:\n",
        "#  features_one e target\n",
        "my_tree_one = tree.DecisionTreeClassifier()\n",
        "my_tree_one = my_tree_one.fit(features_one, target)\n"
      ],
      "execution_count": 45,
      "outputs": []
    },
    {
      "cell_type": "code",
      "metadata": {
        "id": "1kSPZZ_OESWj",
        "colab": {
          "base_uri": "https://localhost:8080/"
        },
        "outputId": "386b0378-71f2-4a17-c28b-dc993f8c7467"
      },
      "source": [
        "# Veja a importância das variáveis/features na sua árvore e calcule a pontuação\n",
        "# Veja a importância e pontuação das features\n",
        "print(my_tree_one.feature_importances_)\n",
        "# print(my_tree_one.score(features_one, target))  # Descomente aqui e teste"
      ],
      "execution_count": 46,
      "outputs": [
        {
          "output_type": "stream",
          "name": "stdout",
          "text": [
            "[0.11221908 0.31194178 0.23493517 0.26572    0.05226001 0.02292396]\n"
          ]
        }
      ]
    },
    {
      "cell_type": "markdown",
      "metadata": {
        "id": "H8f7OghhESWs"
      },
      "source": [
        "## Interpretando sua árvore de decisão\n",
        "\n",
        "O atributo `feature_importances_` torna simples interpretar o que os preditores representam.\n",
        "Com base em sua árvore de decisão, qual variável é mais importante em determinar se um passageiro sobreviveu ou não? Seu modelo (`my_tree_one`) é disponível no console."
      ]
    },
    {
      "cell_type": "markdown",
      "metadata": {
        "id": "rN0EEwJDESWt"
      },
      "source": [
        "### <font color = \"000080\">Resposta: \"______\"</font>"
      ]
    },
    {
      "cell_type": "markdown",
      "metadata": {
        "id": "55N7fW3vESWu"
      },
      "source": [
        "## Predição e submissão no Kaggle\n",
        "\n",
        "Para submeter no Kaggle você precisa predizer as taxas de sobrevivência com base no conjunto de teste.  Com nossa árvore de decisão, nós podemos fazer uso de algumas funções simples para \"gerar\" nossa resposta.\n",
        "\n",
        "Primeiro, utilize o método `.predict()`. Você adiciona o modelo (`my_tree_one`), os valores das features do conjunto de dados para as predições que precisam ser feitas (`test`). Para extrair as features precisamos criar um array `numpy` da mesma maneira como fizemos no treinamento do modelo. No entanto, necessitamos ter cuidado com uma pequena mas importante questão. Falta algum valor em `Fare` que precisa ser \"imputado\".\n",
        "\n",
        "Depois, você precisa ter certeza que sua saída está de acordo com os requisitos de submissão do Kaggle: um arquivo csv com exatamente 418 entradas e duas colunas: `PassengerId` e `Survived`. Então utilize o código advindo para fazer um novo `DataFrame` utilizando `DataFrame()`, e crie um arquivo csv usando o método `to_csv()` do Pandas."
      ]
    },
    {
      "cell_type": "code",
      "metadata": {
        "id": "rEJXlSG3ESW0",
        "colab": {
          "base_uri": "https://localhost:8080/"
        },
        "outputId": "8715e3a4-beb4-48a9-db45-26e37f05dc89"
      },
      "source": [
        "# Impute o missing value de Fare na linha 153 com a mediana da coluna.\n",
        "test_one.Fare[152] = test_one[\"Fare\"].median()\n",
        "print(test_one.Fare[152])"
      ],
      "execution_count": 48,
      "outputs": [
        {
          "output_type": "stream",
          "name": "stdout",
          "text": [
            "14.4542\n"
          ]
        },
        {
          "output_type": "stream",
          "name": "stderr",
          "text": [
            "/usr/local/lib/python3.7/dist-packages/ipykernel_launcher.py:2: SettingWithCopyWarning: \n",
            "A value is trying to be set on a copy of a slice from a DataFrame\n",
            "\n",
            "See the caveats in the documentation: https://pandas.pydata.org/pandas-docs/stable/user_guide/indexing.html#returning-a-view-versus-a-copy\n",
            "  \n"
          ]
        }
      ]
    },
    {
      "cell_type": "code",
      "metadata": {
        "id": "7x7j4FIQESW8"
      },
      "source": [
        "# Extraia os atributos/features do conjunto de teste: Pclass, Sex, Age, Fare, SibSp e Embarked.\n",
        "test_features = test_one[[\"Pclass\", \"Sex\", \"Age\", \"Fare\", \"SibSp\", \"Embarked\"]].values"
      ],
      "execution_count": 49,
      "outputs": []
    },
    {
      "cell_type": "code",
      "metadata": {
        "id": "VVEMvFj_ESXD",
        "colab": {
          "base_uri": "https://localhost:8080/"
        },
        "outputId": "deb65a99-ec23-4b48-8952-d501e4c68b16"
      },
      "source": [
        "# Faça sua predição utilizando o conjunto de teste: test_features\n",
        "my_prediction = my_tree_one.predict(test_features)\n",
        "my_prediction"
      ],
      "execution_count": 50,
      "outputs": [
        {
          "output_type": "execute_result",
          "data": {
            "text/plain": [
              "array([0, 0, 1, 1, 1, 0, 0, 0, 1, 0, 0, 0, 1, 1, 1, 1, 0, 1, 1, 0, 1, 1,\n",
              "       1, 0, 1, 0, 1, 1, 1, 0, 0, 0, 1, 0, 1, 0, 0, 0, 0, 1, 0, 1, 0, 1,\n",
              "       1, 0, 0, 0, 1, 1, 1, 0, 1, 1, 1, 0, 0, 0, 0, 1, 0, 1, 0, 1, 0, 1,\n",
              "       1, 0, 0, 1, 1, 0, 0, 0, 1, 0, 0, 1, 0, 1, 1, 0, 0, 0, 1, 0, 1, 1,\n",
              "       1, 1, 1, 1, 1, 0, 0, 0, 1, 0, 1, 0, 1, 0, 0, 0, 1, 0, 0, 0, 1, 0,\n",
              "       0, 1, 1, 1, 1, 0, 0, 1, 0, 1, 1, 0, 1, 0, 0, 1, 0, 1, 0, 0, 1, 0,\n",
              "       0, 0, 0, 0, 0, 0, 0, 0, 0, 0, 1, 0, 0, 0, 1, 0, 1, 0, 1, 0, 0, 1,\n",
              "       0, 0, 1, 0, 0, 1, 1, 1, 1, 1, 0, 0, 0, 0, 1, 0, 1, 0, 0, 0, 0, 1,\n",
              "       1, 1, 1, 1, 0, 0, 1, 0, 1, 0, 1, 0, 0, 0, 0, 0, 1, 0, 1, 0, 1, 0,\n",
              "       0, 0, 1, 1, 0, 1, 0, 0, 0, 0, 1, 0, 1, 1, 0, 1, 0, 0, 1, 0, 1, 0,\n",
              "       1, 0, 1, 1, 1, 0, 0, 1, 0, 0, 0, 1, 0, 0, 0, 0, 1, 1, 1, 1, 1, 1,\n",
              "       1, 0, 0, 0, 1, 0, 1, 0, 1, 0, 0, 0, 0, 1, 0, 0, 1, 0, 0, 0, 1, 1,\n",
              "       1, 0, 0, 1, 0, 0, 0, 0, 1, 1, 0, 1, 0, 0, 0, 0, 0, 1, 1, 0, 1, 0,\n",
              "       1, 0, 0, 0, 1, 0, 0, 0, 0, 0, 1, 0, 0, 0, 0, 0, 0, 0, 1, 1, 0, 1,\n",
              "       0, 0, 0, 1, 1, 0, 1, 1, 1, 0, 0, 0, 0, 0, 0, 1, 1, 0, 1, 0, 0, 0,\n",
              "       1, 0, 0, 1, 0, 0, 1, 0, 0, 0, 0, 0, 0, 1, 0, 1, 0, 0, 0, 1, 1, 0,\n",
              "       0, 0, 1, 0, 1, 0, 0, 1, 0, 1, 1, 1, 1, 0, 0, 0, 1, 1, 0, 1, 0, 0,\n",
              "       1, 1, 0, 0, 0, 1, 0, 0, 1, 1, 0, 1, 0, 0, 0, 0, 0, 1, 0, 0, 0, 1,\n",
              "       0, 1, 0, 0, 1, 0, 1, 1, 0, 1, 0, 0, 1, 1, 1, 1, 0, 0, 1, 0, 0, 1])"
            ]
          },
          "metadata": {},
          "execution_count": 50
        }
      ]
    },
    {
      "cell_type": "code",
      "metadata": {
        "scrolled": true,
        "id": "08UzhEQPESXK",
        "colab": {
          "base_uri": "https://localhost:8080/"
        },
        "outputId": "26bb9cd4-3fa7-462d-fc70-6c0e105cb8e3"
      },
      "source": [
        "# Crie um data frame com duas colunas: PassengerId e Survived.\n",
        "# Survived contém suas predições\n",
        "PassengerId = np.array(test[\"PassengerId\"]).astype(int)\n",
        "my_solution = pd.DataFrame(my_prediction, PassengerId, columns = [\"Survived\"])\n",
        "print(my_solution)"
      ],
      "execution_count": 51,
      "outputs": [
        {
          "output_type": "stream",
          "name": "stdout",
          "text": [
            "      Survived\n",
            "892          0\n",
            "893          0\n",
            "894          1\n",
            "895          1\n",
            "896          1\n",
            "...        ...\n",
            "1305         0\n",
            "1306         1\n",
            "1307         0\n",
            "1308         0\n",
            "1309         1\n",
            "\n",
            "[418 rows x 1 columns]\n"
          ]
        }
      ]
    },
    {
      "cell_type": "code",
      "metadata": {
        "id": "rqhvYKPPESXT",
        "colab": {
          "base_uri": "https://localhost:8080/"
        },
        "outputId": "c987f04c-ebc6-4281-f2e6-7e7b0f403b4f"
      },
      "source": [
        "# Verifique se o seu data frame possui 418 entradas\n",
        "print(my_solution.shape)"
      ],
      "execution_count": 54,
      "outputs": [
        {
          "output_type": "stream",
          "name": "stdout",
          "text": [
            "(418, 1)\n"
          ]
        }
      ]
    },
    {
      "cell_type": "code",
      "metadata": {
        "id": "wrsPvg1CESXZ",
        "colab": {
          "base_uri": "https://localhost:8080/"
        },
        "outputId": "2ccfd4b5-6049-4ed3-ed42-0a8730533c76"
      },
      "source": [
        "# Salve sua solução em um arquivo csv com o nome my_solution_one.csv\n",
        "my_solution.to_csv(\"my_solution_one.csv\", index_label = [\"PassengerId\"])\n",
        "print(my_solution)"
      ],
      "execution_count": 55,
      "outputs": [
        {
          "output_type": "stream",
          "name": "stdout",
          "text": [
            "      Survived\n",
            "892          0\n",
            "893          0\n",
            "894          1\n",
            "895          1\n",
            "896          1\n",
            "...        ...\n",
            "1305         0\n",
            "1306         1\n",
            "1307         0\n",
            "1308         0\n",
            "1309         1\n",
            "\n",
            "[418 rows x 1 columns]\n"
          ]
        }
      ]
    },
    {
      "cell_type": "markdown",
      "metadata": {
        "id": "VjEy_CcsESXh"
      },
      "source": [
        "## Overfitting e como controlar isso\n",
        "\n",
        "Quando você criou sua primeira árvore de decisão, os argumentos padrão para `max_depth` e `min_samples_split` foram configurados como `None`. Isso significa que nenhum limite para a profundidade de sua árvore foi definido. Isso é uma coisa boa, certo? Não tão rápido. Provavelmente temos um overfitting. Isso significa que, embora seu modelo descreva os dados de treinamento muito bem, ele não generaliza para novos dados, o que é francamente o ponto de predição. Basta olhar para os resultados de envio do Kaggle para o modelo simples baseado em gênero (Gender) e a árvore de decisão complexa. Qual é o melhor?\n",
        "\n",
        "Talvez possamos melhorar o modelo de sobreajuste criando um modelo menos complexo? Em `DecisionTreeRegressor`, a profundidade do nosso modelo é definida por dois parâmetros: - o parâmetro `max_depth` determina quando a divisão da árvore de decisão finaliza. - o parâmetro `min_samples_split` monitora a quantidade de observações em um intervalo. Se um certo limite não for atingido (por exemplo, mínimo de 10 passageiros), nenhuma divisão adicional pode ser feita.\n",
        "\n",
        "Ao limitar a complexidade de sua árvore de decisão, você aumentará sua generalidade e, portanto, sua utilidade para previsões!"
      ]
    },
    {
      "cell_type": "code",
      "metadata": {
        "id": "HWrTwHo0ESXi"
      },
      "source": [
        "# Incluir: irmãos/cônjuges a bordo, pais/filhos a bordo e atributos Embarked em um novo conjunto de atributos.\n",
        "# Criar uma nova matriz com os recursos adicionados: features_two\n",
        "features_two = train[[\"Pclass\",\"Age\",\"Sex\",\"Fare\", \"SibSp\", \"Parch\", \"Embarked\"]].values"
      ],
      "execution_count": 56,
      "outputs": []
    },
    {
      "cell_type": "code",
      "metadata": {
        "id": "MnpPBPzAESXq"
      },
      "source": [
        "# Ajuste sua segunda árvore my_tree_two com os novos atributos e controle a complexidade do modelo alternando ...\n",
        "# ...os argumentos max_depth e min_samples_split.\n",
        "# Controle o sobreajuste (overfitting) definindo \"max_depth\" para 10 e \"min_samples_split\" para 5: my_tree_two\n",
        "\n",
        "max_depth = 10\n",
        "min_samples_split = 5\n",
        "my_tree_two = tree.DecisionTreeClassifier(max_depth = max_depth,\n",
        "                                          min_samples_split = min_samples_split,\n",
        "                                          random_state = 1)\n",
        "my_tree_two = my_tree_two.fit(features_two, target)"
      ],
      "execution_count": 57,
      "outputs": []
    },
    {
      "cell_type": "code",
      "metadata": {
        "id": "PpQNeZCgESXw",
        "colab": {
          "base_uri": "https://localhost:8080/"
        },
        "outputId": "6f738e8a-e324-4f0c-9d3a-6316bca73d82"
      },
      "source": [
        "# Mostrar o escore da nova árvore de decisão\n",
        "print(my_tree_two.score(features_two, target))"
      ],
      "execution_count": 58,
      "outputs": [
        {
          "output_type": "stream",
          "name": "stdout",
          "text": [
            "0.9057239057239057\n"
          ]
        }
      ]
    },
    {
      "cell_type": "code",
      "metadata": {
        "id": "HT85l76_ESX3"
      },
      "source": [
        "# Submeter a segunda solução!"
      ],
      "execution_count": null,
      "outputs": []
    },
    {
      "cell_type": "markdown",
      "metadata": {
        "id": "01jZhbNRESX9"
      },
      "source": [
        "## Feature-engineering para nosso conjunto de dados do Titanic\n",
        "\n",
        "Data Science é uma arte que se beneficia de um elemento humano. Vamos trabalhar com feature engineering: desenvolva criativamente seus próprios atributos combinando as diferentes variáveis existentes.\n",
        "\n",
        "Embora feature engineering seja uma disciplina em si, muito ampla para ser abordada aqui em detalhes, você verá um exemplo simples criando seu próprio novo atributo preditivo: `family_size`.\n",
        "\n",
        "Uma suposição válida é que famílias maiores precisam de mais tempo para se reunir em um navio que está naufragando e, portanto, têm menor probabilidade de sobreviver. O tamanho da família é determinado pelas variáveis `SibSp` e `Parch`, que indicam o número de membros da família com quem um determinado passageiro está viajando. Então, ao fazer featuring engineering, você adiciona uma nova variável `family_size`, que é a soma de `SibSp` e `Parch` mais um (a própria observação), ao conjunto `test` e `train`.\n",
        "\n"
      ]
    },
    {
      "cell_type": "code",
      "metadata": {
        "id": "NB5DeayFESYA"
      },
      "source": [
        "# Crie um novo conjunto de treinamento train_two que difere de train apenas por ter uma coluna extra ...\n",
        "# ... com sua variável family_size.\n",
        "# Crie train_two com a recém-definida family_size\n",
        "\n",
        "train_two = train.copy()\n",
        "train_two[\"family_size\"] = train[\"SibSp\"] + train[\"Parch\"] + 1"
      ],
      "execution_count": 59,
      "outputs": []
    },
    {
      "cell_type": "code",
      "metadata": {
        "id": "euowxL5OESYH"
      },
      "source": [
        "# Adicione family_size além de ...\n",
        "# ... Pclass, Sex, Age, Fare, SibSp e Parch para features_three.\n",
        "# Crie um novo conjunto de atributos com esses elementos\n",
        "\n",
        "features_three = train_two[[\"Pclass\", \"Sex\", \"Age\", \"Fare\", \"SibSp\", \"Parch\", \"family_size\"]].values"
      ],
      "execution_count": 61,
      "outputs": []
    },
    {
      "cell_type": "code",
      "metadata": {
        "id": "PR3adorLESYQ"
      },
      "source": [
        "# Crie uma nova árvore de decisão como my_tree_three e ajuste a árvore de decisão com seu novo conjunto features_three.\n",
        "# Em seguida, verifique a pontuação da árvore de decisão.\n",
        "# Defina o classificador de árvore e ajuste o modelo\n",
        "\n",
        "my_tree_three = tree.DecisionTreeClassifier()\n",
        "my_tree_three = my_tree_three.fit(features_three, target)"
      ],
      "execution_count": 62,
      "outputs": []
    },
    {
      "cell_type": "code",
      "metadata": {
        "scrolled": true,
        "id": "5rwKv-jjESYT",
        "colab": {
          "base_uri": "https://localhost:8080/"
        },
        "outputId": "f695cb1a-7c4c-47fe-c2f5-739f2e85af07"
      },
      "source": [
        "# Mostrar o escore dessa árvore de decisão\n",
        "print(my_tree_three.score(features_three, target))"
      ],
      "execution_count": 63,
      "outputs": [
        {
          "output_type": "stream",
          "name": "stdout",
          "text": [
            "0.9797979797979798\n"
          ]
        }
      ]
    },
    {
      "cell_type": "code",
      "metadata": {
        "id": "kwTCd_UfESYn"
      },
      "source": [
        "# Submeter a terceira solução!"
      ],
      "execution_count": null,
      "outputs": []
    },
    {
      "cell_type": "markdown",
      "metadata": {
        "id": "L93S5pPoESYs"
      },
      "source": [
        "## Uma análise com random forest em Python\n",
        "\n",
        "Um estudo detalhado de Random Forests levaria este estudo de caso um pouco longe demais. No entanto, como é uma técnica de aprendizado de máquina usada com frequência, obter um entendimento geral do Python não fará mal.\n",
        "\n",
        "Em termos gerais, a técnica Random Forest lida com o problema de overfitting que você enfrentou com as árvores de decisão. Ela desenvolve várias árvores de classificação (muito profundas) usando o conjunto de treinamento. No momento da predição, cada árvore é usada para fazer uma previsão e cada resultado é contado como um voto. Por exemplo, se você treinou 3 árvores com 2 dizendo que um passageiro no conjunto de teste sobreviverá e 1 dizendo que não, o passageiro será classificado como um sobrevivente. Essa abordagem de overtraining de árvores, mas tendo o voto da maioria contado como a decisão de classificação real, evita overfitting.\n",
        "\n",
        "Construir uma floresta aleatória em Python é quase o mesmo que construir uma árvore de decisão. Existem duas diferenças principais, no entanto. Em primeiro lugar, uma classe diferente é usada. E em segundo lugar, um novo argumento é necessário. Além disso, precisamos importar a biblioteca necessária do `scikit-learn`.\n",
        "\n",
        "* Use a classe `RandomForestClassifier()` em vez da classe `DecisionTreeClassifier()`.\n",
        "* `n_estimators` precisa ser definido ao usar a classe `RandomForestClassifier()`. Este argumento permite que você defina o número de árvores que deseja plantar e calcular a média.\n",
        "\n",
        "Os dados de treinamento e teste mais recentes estão pré-carregados para você."
      ]
    },
    {
      "cell_type": "code",
      "metadata": {
        "id": "Ad7lfhVYESYt"
      },
      "source": [
        "# Importe `RandomForestClassifier`\n",
        "from sklearn.ensemble import RandomForestClassifier"
      ],
      "execution_count": 64,
      "outputs": []
    },
    {
      "cell_type": "code",
      "metadata": {
        "id": "mD26cv1vESY0"
      },
      "source": [
        "# Queremos as variáveis Pclass, Age, Sex, Fare,SibSp, Parch e Embarked\n",
        "features_forest = train[[\"Pclass\", \"Age\", \"Sex\", \"Fare\", \"SibSp\", \"Parch\", \"Embarked\"]].values"
      ],
      "execution_count": 65,
      "outputs": []
    },
    {
      "cell_type": "code",
      "metadata": {
        "id": "ygjmQv3kESY4"
      },
      "source": [
        "# Construir o preditor com n_estimators igual a 100.\n",
        "# Construindo e ajustando my_forest\n",
        "forest = RandomForestClassifier(max_depth = 10,\n",
        "                                min_samples_split=2,\n",
        "                                n_estimators = 100,\n",
        "                                random_state = 1)\n",
        "# Ajuste seu modelo de floresta aleatória com entradas features_forest e target.\n",
        "my_forest = forest.fit(features_forest, target)"
      ],
      "execution_count": 66,
      "outputs": []
    },
    {
      "cell_type": "code",
      "metadata": {
        "id": "PRik110kESY7",
        "colab": {
          "base_uri": "https://localhost:8080/"
        },
        "outputId": "b8752e4b-2cfc-44e1-cc58-ab5d3fe75fc7"
      },
      "source": [
        "# Mostre a pontuação ajustada\n",
        "print(my_forest.score(features_forest, target))"
      ],
      "execution_count": 67,
      "outputs": [
        {
          "output_type": "stream",
          "name": "stdout",
          "text": [
            "0.9393939393939394\n"
          ]
        }
      ]
    },
    {
      "cell_type": "code",
      "metadata": {
        "id": "X4Z309cyESZB",
        "colab": {
          "base_uri": "https://localhost:8080/",
          "height": 206
        },
        "outputId": "939d6155-52e7-48ec-fba2-7caf45e087f7"
      },
      "source": [
        "test_one.head()"
      ],
      "execution_count": 68,
      "outputs": [
        {
          "output_type": "execute_result",
          "data": {
            "text/plain": [
              "   PassengerId  Pclass                                          Name Sex  \\\n",
              "0          892       3                              Kelly, Mr. James   0   \n",
              "1          893       3              Wilkes, Mrs. James (Ellen Needs)   1   \n",
              "2          894       2                     Myles, Mr. Thomas Francis   0   \n",
              "3          895       3                              Wirz, Mr. Albert   0   \n",
              "4          896       3  Hirvonen, Mrs. Alexander (Helga E Lindqvist)   1   \n",
              "\n",
              "    Age  SibSp  Parch   Ticket     Fare Cabin Embarked  Survived  \n",
              "0  34.5      0      0   330911   7.8292   NaN        2         0  \n",
              "1  47.0      1      0   363272   7.0000   NaN        0         1  \n",
              "2  62.0      0      0   240276   9.6875   NaN        2         0  \n",
              "3  27.0      0      0   315154   8.6625   NaN        0         0  \n",
              "4  22.0      1      1  3101298  12.2875   NaN        0         1  "
            ],
            "text/html": [
              "\n",
              "  <div id=\"df-8ad2649b-9c09-425d-9984-e7bb644c4056\">\n",
              "    <div class=\"colab-df-container\">\n",
              "      <div>\n",
              "<style scoped>\n",
              "    .dataframe tbody tr th:only-of-type {\n",
              "        vertical-align: middle;\n",
              "    }\n",
              "\n",
              "    .dataframe tbody tr th {\n",
              "        vertical-align: top;\n",
              "    }\n",
              "\n",
              "    .dataframe thead th {\n",
              "        text-align: right;\n",
              "    }\n",
              "</style>\n",
              "<table border=\"1\" class=\"dataframe\">\n",
              "  <thead>\n",
              "    <tr style=\"text-align: right;\">\n",
              "      <th></th>\n",
              "      <th>PassengerId</th>\n",
              "      <th>Pclass</th>\n",
              "      <th>Name</th>\n",
              "      <th>Sex</th>\n",
              "      <th>Age</th>\n",
              "      <th>SibSp</th>\n",
              "      <th>Parch</th>\n",
              "      <th>Ticket</th>\n",
              "      <th>Fare</th>\n",
              "      <th>Cabin</th>\n",
              "      <th>Embarked</th>\n",
              "      <th>Survived</th>\n",
              "    </tr>\n",
              "  </thead>\n",
              "  <tbody>\n",
              "    <tr>\n",
              "      <th>0</th>\n",
              "      <td>892</td>\n",
              "      <td>3</td>\n",
              "      <td>Kelly, Mr. James</td>\n",
              "      <td>0</td>\n",
              "      <td>34.5</td>\n",
              "      <td>0</td>\n",
              "      <td>0</td>\n",
              "      <td>330911</td>\n",
              "      <td>7.8292</td>\n",
              "      <td>NaN</td>\n",
              "      <td>2</td>\n",
              "      <td>0</td>\n",
              "    </tr>\n",
              "    <tr>\n",
              "      <th>1</th>\n",
              "      <td>893</td>\n",
              "      <td>3</td>\n",
              "      <td>Wilkes, Mrs. James (Ellen Needs)</td>\n",
              "      <td>1</td>\n",
              "      <td>47.0</td>\n",
              "      <td>1</td>\n",
              "      <td>0</td>\n",
              "      <td>363272</td>\n",
              "      <td>7.0000</td>\n",
              "      <td>NaN</td>\n",
              "      <td>0</td>\n",
              "      <td>1</td>\n",
              "    </tr>\n",
              "    <tr>\n",
              "      <th>2</th>\n",
              "      <td>894</td>\n",
              "      <td>2</td>\n",
              "      <td>Myles, Mr. Thomas Francis</td>\n",
              "      <td>0</td>\n",
              "      <td>62.0</td>\n",
              "      <td>0</td>\n",
              "      <td>0</td>\n",
              "      <td>240276</td>\n",
              "      <td>9.6875</td>\n",
              "      <td>NaN</td>\n",
              "      <td>2</td>\n",
              "      <td>0</td>\n",
              "    </tr>\n",
              "    <tr>\n",
              "      <th>3</th>\n",
              "      <td>895</td>\n",
              "      <td>3</td>\n",
              "      <td>Wirz, Mr. Albert</td>\n",
              "      <td>0</td>\n",
              "      <td>27.0</td>\n",
              "      <td>0</td>\n",
              "      <td>0</td>\n",
              "      <td>315154</td>\n",
              "      <td>8.6625</td>\n",
              "      <td>NaN</td>\n",
              "      <td>0</td>\n",
              "      <td>0</td>\n",
              "    </tr>\n",
              "    <tr>\n",
              "      <th>4</th>\n",
              "      <td>896</td>\n",
              "      <td>3</td>\n",
              "      <td>Hirvonen, Mrs. Alexander (Helga E Lindqvist)</td>\n",
              "      <td>1</td>\n",
              "      <td>22.0</td>\n",
              "      <td>1</td>\n",
              "      <td>1</td>\n",
              "      <td>3101298</td>\n",
              "      <td>12.2875</td>\n",
              "      <td>NaN</td>\n",
              "      <td>0</td>\n",
              "      <td>1</td>\n",
              "    </tr>\n",
              "  </tbody>\n",
              "</table>\n",
              "</div>\n",
              "      <button class=\"colab-df-convert\" onclick=\"convertToInteractive('df-8ad2649b-9c09-425d-9984-e7bb644c4056')\"\n",
              "              title=\"Convert this dataframe to an interactive table.\"\n",
              "              style=\"display:none;\">\n",
              "        \n",
              "  <svg xmlns=\"http://www.w3.org/2000/svg\" height=\"24px\"viewBox=\"0 0 24 24\"\n",
              "       width=\"24px\">\n",
              "    <path d=\"M0 0h24v24H0V0z\" fill=\"none\"/>\n",
              "    <path d=\"M18.56 5.44l.94 2.06.94-2.06 2.06-.94-2.06-.94-.94-2.06-.94 2.06-2.06.94zm-11 1L8.5 8.5l.94-2.06 2.06-.94-2.06-.94L8.5 2.5l-.94 2.06-2.06.94zm10 10l.94 2.06.94-2.06 2.06-.94-2.06-.94-.94-2.06-.94 2.06-2.06.94z\"/><path d=\"M17.41 7.96l-1.37-1.37c-.4-.4-.92-.59-1.43-.59-.52 0-1.04.2-1.43.59L10.3 9.45l-7.72 7.72c-.78.78-.78 2.05 0 2.83L4 21.41c.39.39.9.59 1.41.59.51 0 1.02-.2 1.41-.59l7.78-7.78 2.81-2.81c.8-.78.8-2.07 0-2.86zM5.41 20L4 18.59l7.72-7.72 1.47 1.35L5.41 20z\"/>\n",
              "  </svg>\n",
              "      </button>\n",
              "      \n",
              "  <style>\n",
              "    .colab-df-container {\n",
              "      display:flex;\n",
              "      flex-wrap:wrap;\n",
              "      gap: 12px;\n",
              "    }\n",
              "\n",
              "    .colab-df-convert {\n",
              "      background-color: #E8F0FE;\n",
              "      border: none;\n",
              "      border-radius: 50%;\n",
              "      cursor: pointer;\n",
              "      display: none;\n",
              "      fill: #1967D2;\n",
              "      height: 32px;\n",
              "      padding: 0 0 0 0;\n",
              "      width: 32px;\n",
              "    }\n",
              "\n",
              "    .colab-df-convert:hover {\n",
              "      background-color: #E2EBFA;\n",
              "      box-shadow: 0px 1px 2px rgba(60, 64, 67, 0.3), 0px 1px 3px 1px rgba(60, 64, 67, 0.15);\n",
              "      fill: #174EA6;\n",
              "    }\n",
              "\n",
              "    [theme=dark] .colab-df-convert {\n",
              "      background-color: #3B4455;\n",
              "      fill: #D2E3FC;\n",
              "    }\n",
              "\n",
              "    [theme=dark] .colab-df-convert:hover {\n",
              "      background-color: #434B5C;\n",
              "      box-shadow: 0px 1px 3px 1px rgba(0, 0, 0, 0.15);\n",
              "      filter: drop-shadow(0px 1px 2px rgba(0, 0, 0, 0.3));\n",
              "      fill: #FFFFFF;\n",
              "    }\n",
              "  </style>\n",
              "\n",
              "      <script>\n",
              "        const buttonEl =\n",
              "          document.querySelector('#df-8ad2649b-9c09-425d-9984-e7bb644c4056 button.colab-df-convert');\n",
              "        buttonEl.style.display =\n",
              "          google.colab.kernel.accessAllowed ? 'block' : 'none';\n",
              "\n",
              "        async function convertToInteractive(key) {\n",
              "          const element = document.querySelector('#df-8ad2649b-9c09-425d-9984-e7bb644c4056');\n",
              "          const dataTable =\n",
              "            await google.colab.kernel.invokeFunction('convertToInteractive',\n",
              "                                                     [key], {});\n",
              "          if (!dataTable) return;\n",
              "\n",
              "          const docLinkHtml = 'Like what you see? Visit the ' +\n",
              "            '<a target=\"_blank\" href=https://colab.research.google.com/notebooks/data_table.ipynb>data table notebook</a>'\n",
              "            + ' to learn more about interactive tables.';\n",
              "          element.innerHTML = '';\n",
              "          dataTable['output_type'] = 'display_data';\n",
              "          await google.colab.output.renderOutput(dataTable, element);\n",
              "          const docLink = document.createElement('div');\n",
              "          docLink.innerHTML = docLinkHtml;\n",
              "          element.appendChild(docLink);\n",
              "        }\n",
              "      </script>\n",
              "    </div>\n",
              "  </div>\n",
              "  "
            ]
          },
          "metadata": {},
          "execution_count": 68
        }
      ]
    },
    {
      "cell_type": "code",
      "metadata": {
        "id": "cWwGuHdwESZG",
        "colab": {
          "base_uri": "https://localhost:8080/"
        },
        "outputId": "68b0a3b6-2231-47cf-f6d5-69c93864cd21"
      },
      "source": [
        "# Calcule as previsões do classificador nos atributos do conjunto de teste selecionado.\n",
        "# Calcule as previsões em nossos recursos de conjunto de teste e imprima o comprimento do vetor de previsão\n",
        "\n",
        "test_features = test_one[[\"Pclass\", \"Age\", \"Sex\", \"Fare\", \"SibSp\", \"Parch\", \"Embarked\"]].values\n",
        "pred_forest = my_forest.predict(test_features)\n",
        "print(len(pred_forest))"
      ],
      "execution_count": 73,
      "outputs": [
        {
          "output_type": "stream",
          "name": "stdout",
          "text": [
            "418\n"
          ]
        }
      ]
    },
    {
      "cell_type": "markdown",
      "metadata": {
        "id": "Pg8Q86dMESZJ"
      },
      "source": [
        "## Interpretando e comparando\n",
        "\n",
        "Lembra como olhamos para o atributo `.feature_importances_` para as árvores de decisão? Bem, você também pode solicitar o mesmo atributo de sua floresta aleatória e interpretar a relevância das variáveis incluídas. Você também pode querer comparar os modelos de uma maneira rápida e fácil. Para isso, podemos usar o método `.score ()`. O método `.score ()` pega os atributos `data` e o vetor `target` e calcula a precisão de `mean` do seu modelo. Você pode aplicar este método às árvores **forest** e **individual**. Lembre-se de que essa medida deve ser alta, mas não extrema, porque isso seria um sinal de **overfitting**.\n",
        "\n",
        "Para este exercício, você tem `my_forest` e `my_tree_two` disponíveis para você. Os arrays `features` e `target` também estão prontos para uso."
      ]
    },
    {
      "cell_type": "code",
      "metadata": {
        "id": "xLgh4P8HESZK",
        "colab": {
          "base_uri": "https://localhost:8080/"
        },
        "outputId": "a13da5a8-46f3-41a8-8971-ac3479046688"
      },
      "source": [
        "# Explore o atributo feature_importances_ e mostre na tela\n",
        "print(my_tree_two.feature_importances_)\n",
        "print(my_tree_three.feature_importances_)\n",
        "print(my_forest.feature_importances_)"
      ],
      "execution_count": 74,
      "outputs": [
        {
          "output_type": "stream",
          "name": "stdout",
          "text": [
            "[0.14130255 0.17906027 0.41616727 0.17938711 0.05039699 0.01923751\n",
            " 0.0144483 ]\n",
            "[0.11264598 0.31088095 0.23178944 0.2391215  0.04020843 0.01821674\n",
            " 0.04713697]\n",
            "[0.10384741 0.20139027 0.31989322 0.24602858 0.05272693 0.04159232\n",
            " 0.03452128]\n"
          ]
        }
      ]
    },
    {
      "cell_type": "code",
      "metadata": {
        "id": "ChZADqsGESZN",
        "colab": {
          "base_uri": "https://localhost:8080/"
        },
        "outputId": "d9f56191-6188-4346-9a26-1006af75eda3"
      },
      "source": [
        "# Compare a pontuação média de precisão dos dois modelos\n",
        "# Calcular e imprimir a pontuação média de precisão para ambos os modelos\n",
        "print(my_tree_two.score(features_two, target))\n",
        "print(my_tree_three.score(features_two, target))\n",
        "print(my_forest.score(features_two, target))"
      ],
      "execution_count": 75,
      "outputs": [
        {
          "output_type": "stream",
          "name": "stdout",
          "text": [
            "0.9057239057239057\n",
            "0.5398428731762065\n",
            "0.9393939393939394\n"
          ]
        }
      ]
    },
    {
      "cell_type": "markdown",
      "metadata": {
        "id": "jpieNqOnESZZ"
      },
      "source": [
        "## Concluir e submeter\n",
        "\n",
        "Com base em sua descoberta no exercício anterior, determine qual recurso foi mais importante e para qual modelo. Após este exercício final, você poderá enviar seu modelo de floresta aleatória para o Kaggle! \n",
        "Use `my_forest`, `my_tree_two` e `feature_importances_` para responder a pergunta."
      ]
    },
    {
      "cell_type": "markdown",
      "metadata": {
        "id": "ctOgu0gRTOTb"
      },
      "source": [
        "### <font color = \"000080\">Resposta: O atributo mais importante foi **Sex**, mas foi mais significativo para o modelo **my_tree_two**.</font>\n"
      ]
    },
    {
      "cell_type": "markdown",
      "metadata": {
        "id": "e56loyNhGzUp"
      },
      "source": [
        "## Referência\n",
        "\n",
        "https://www.datacamp.com/community/open-courses/kaggle-python-tutorial-on-machine-learning"
      ]
    }
  ]
}