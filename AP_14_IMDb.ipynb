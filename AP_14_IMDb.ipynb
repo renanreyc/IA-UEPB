{
  "nbformat": 4,
  "nbformat_minor": 0,
  "metadata": {
    "kernelspec": {
      "display_name": "Python 3",
      "language": "python",
      "name": "python3"
    },
    "language_info": {
      "codemirror_mode": {
        "name": "ipython",
        "version": 3
      },
      "file_extension": ".py",
      "mimetype": "text/x-python",
      "name": "python",
      "nbconvert_exporter": "python",
      "pygments_lexer": "ipython3",
      "version": "3.7.7"
    },
    "colab": {
      "name": "RENAN REY COSTA RODRIGUES - AP 14 IMDb.ipynb",
      "provenance": [],
      "collapsed_sections": [],
      "include_colab_link": true
    },
    "accelerator": "GPU"
  },
  "cells": [
    {
      "cell_type": "markdown",
      "metadata": {
        "id": "view-in-github",
        "colab_type": "text"
      },
      "source": [
        "<a href=\"https://colab.research.google.com/github/renanreyc/IA-UEPB/blob/main/AP_14_IMDb.ipynb\" target=\"_parent\"><img src=\"https://colab.research.google.com/assets/colab-badge.svg\" alt=\"Open In Colab\"/></a>"
      ]
    },
    {
      "cell_type": "markdown",
      "metadata": {
        "id": "AyQ_4qBnVcYW"
      },
      "source": [
        "# <font color = \"000080\">Redes neurais recorrentes: análise de sentimento com o conjunto de dados do IMDb</font>"
      ]
    },
    {
      "cell_type": "markdown",
      "metadata": {
        "id": "H8njR6G9VcYW"
      },
      "source": [
        "Vamos usar o conjunto de dados das críticas de filmes do IMDb (*the Internet Movie Database*) embutido no `Keras` para executar a classificação binária, prevendo se o sentimento de uma determinada crítica é positivo ou negativo."
      ]
    },
    {
      "cell_type": "markdown",
      "metadata": {
        "id": "zTBbGo_LVcYW"
      },
      "source": [
        "## <font color = \"000080\">1. Carregando o conjunto de dados</font>\n",
        "\n",
        "O conjunto de dados de análises de filmes IMDb incluído no `Keras` contém 25.000 amostras de treinamento e 25.000 amostras de testes, cada uma rotulada com o seu sentimento positivo (1) ou negativo (0)."
      ]
    },
    {
      "cell_type": "code",
      "metadata": {
        "id": "_bpDQ4H-VcYW"
      },
      "source": [
        "# Importar o módulo imdb\n",
        "from tensorflow.keras.datasets import imdb"
      ],
      "execution_count": 1,
      "outputs": []
    },
    {
      "cell_type": "markdown",
      "metadata": {
        "id": "gxT3cgVRVcYX"
      },
      "source": [
        "A função `load_data` do módulo `imdb` retorna os conjuntos de testes e treinamento. Existem mais de 88.000 palavras únicas no conjunto de dados. A função `load_data` permite especificar o número de palavras exclusivas a serem importadas como parte dos dados de treinamento e teste. Aqui, carregamos apenas as 10.000 palavras mais comuns, devido às limitações de memória do nosso sistema (treinar com CPU e não GPU)."
      ]
    },
    {
      "cell_type": "code",
      "metadata": {
        "id": "XMvh3ZStVcYX"
      },
      "source": [
        "# Carregar apenas 10.000 palavras\n",
        "numero_de_palavras = 10000"
      ],
      "execution_count": 2,
      "outputs": []
    },
    {
      "cell_type": "markdown",
      "source": [
        "Utilize a função `load_data()` para carregar o conjunto de dados e retornar as duas tuplas contendo os dados de treinamento e de teste."
      ],
      "metadata": {
        "id": "hPDzS2A4jztg"
      }
    },
    {
      "cell_type": "code",
      "metadata": {
        "id": "7KuZr9ESVcYX",
        "colab": {
          "base_uri": "https://localhost:8080/"
        },
        "outputId": "f26f4c9c-08da-40a6-b3a0-57ee867d9da5"
      },
      "source": [
        "(X_treino, y_treino), (X_teste, y_teste) = imdb.load_data(num_words=numero_de_palavras)"
      ],
      "execution_count": 3,
      "outputs": [
        {
          "output_type": "stream",
          "name": "stdout",
          "text": [
            "Downloading data from https://storage.googleapis.com/tensorflow/tf-keras-datasets/imdb.npz\n",
            "17465344/17464789 [==============================] - 0s 0us/step\n",
            "17473536/17464789 [==============================] - 0s 0us/step\n"
          ]
        }
      ]
    },
    {
      "cell_type": "markdown",
      "metadata": {
        "id": "jAFuNmBVVcYa"
      },
      "source": [
        "<font color = \"000080\">A função `load_data()` carrega o conjunto de dados e retorna a tupla com dois elementos cada, contendo os dados de treinamento e de teste.</font>"
      ]
    },
    {
      "cell_type": "markdown",
      "metadata": {
        "id": "LdtIHZBZVcYa"
      },
      "source": [
        "## <font color = \"000080\">2. Explorando o conjunto de dados</font>\n",
        "\n",
        "Observe os dados do conjunto de treinamento, rótulos de teste e suas dimensões:\n"
      ]
    },
    {
      "cell_type": "code",
      "metadata": {
        "colab": {
          "base_uri": "https://localhost:8080/"
        },
        "id": "F1QNHJJyVcYb",
        "outputId": "7e21d32d-e13c-4984-a8a1-50594c364478"
      },
      "source": [
        "X_treino.shape"
      ],
      "execution_count": 4,
      "outputs": [
        {
          "output_type": "execute_result",
          "data": {
            "text/plain": [
              "(25000,)"
            ]
          },
          "metadata": {},
          "execution_count": 4
        }
      ]
    },
    {
      "cell_type": "code",
      "metadata": {
        "colab": {
          "base_uri": "https://localhost:8080/"
        },
        "id": "xChndkxzVcYc",
        "outputId": "539034c2-d36a-45d6-9f8d-d57d31b90d74"
      },
      "source": [
        "y_treino.shape"
      ],
      "execution_count": 5,
      "outputs": [
        {
          "output_type": "execute_result",
          "data": {
            "text/plain": [
              "(25000,)"
            ]
          },
          "metadata": {},
          "execution_count": 5
        }
      ]
    },
    {
      "cell_type": "code",
      "metadata": {
        "colab": {
          "base_uri": "https://localhost:8080/"
        },
        "id": "IoXt66q8VcYc",
        "outputId": "d6106e77-3111-4530-ac11-a9dab28e7581"
      },
      "source": [
        "X_teste.shape"
      ],
      "execution_count": 6,
      "outputs": [
        {
          "output_type": "execute_result",
          "data": {
            "text/plain": [
              "(25000,)"
            ]
          },
          "metadata": {},
          "execution_count": 6
        }
      ]
    },
    {
      "cell_type": "code",
      "metadata": {
        "colab": {
          "base_uri": "https://localhost:8080/"
        },
        "id": "tc8HmScOVcYd",
        "outputId": "031bc2a1-bb64-4225-9c31-a5c78e45aa68"
      },
      "source": [
        "y_teste.shape"
      ],
      "execution_count": 7,
      "outputs": [
        {
          "output_type": "execute_result",
          "data": {
            "text/plain": [
              "(25000,)"
            ]
          },
          "metadata": {},
          "execution_count": 7
        }
      ]
    },
    {
      "cell_type": "code",
      "metadata": {
        "id": "Dhmi3MgYSdXi"
      },
      "source": [
        "# Necessário para o tempo da aula\n",
        "X_treino = X_treino[::50]\n",
        "X_teste = X_teste[::50]\n",
        "y_treino = y_treino[::50]\n",
        "y_teste = y_teste[::50]"
      ],
      "execution_count": 8,
      "outputs": []
    },
    {
      "cell_type": "markdown",
      "metadata": {
        "id": "XCUaF7vuVcYe"
      },
      "source": [
        "Os *arrays* `y_treino` e `y_teste` são unidimensionais, contendo 1s e 0s, indicando se cada revisão é positiva ou negativa.<br>\n",
        "\n",
        "Com base nas saídas anteriores, `X_treino` e `X_teste` também parecem ser unidimensionais.\n",
        "\n",
        "No entanto, seus elementos são na verdade **listas** de números inteiros, cada um representando o conteúdo de uma crítica, como mostrado em `X_treino[123]`, por exemplo."
      ]
    },
    {
      "cell_type": "code",
      "metadata": {
        "colab": {
          "base_uri": "https://localhost:8080/"
        },
        "id": "5vaHhxqSVcYe",
        "outputId": "974fe823-b149-4eb9-e4ce-e310973aa55c"
      },
      "source": [
        "%pprint"
      ],
      "execution_count": 9,
      "outputs": [
        {
          "output_type": "stream",
          "name": "stdout",
          "text": [
            "Pretty printing has been turned OFF\n"
          ]
        }
      ]
    },
    {
      "cell_type": "code",
      "metadata": {
        "colab": {
          "base_uri": "https://localhost:8080/"
        },
        "id": "kOdiagaOVcYe",
        "outputId": "ef483694-97d2-4401-dfe5-d97e2f572381"
      },
      "source": [
        "X_treino[123]"
      ],
      "execution_count": 10,
      "outputs": [
        {
          "output_type": "execute_result",
          "data": {
            "text/plain": [
              "[1, 6, 464, 7, 1923, 16, 11, 4, 177, 17, 6, 2, 1544, 6, 701, 1386, 173, 17, 13, 2283, 29, 839, 12, 120, 23, 288, 38, 13, 100, 67, 12, 12, 16, 221, 21, 55, 76, 421, 40, 35, 2374, 22, 6, 73, 93, 2374, 22, 151, 66, 357, 5, 862, 398, 12, 16, 242, 253, 8, 97, 5, 30, 574, 11, 21, 12, 407, 161, 1833, 101, 243, 7, 1876, 766, 279, 11, 2, 3403, 358, 12, 21, 14, 2642, 250, 16, 1100, 5, 1252, 243, 7, 2942, 18, 61, 5766, 3866, 10, 10, 48, 14, 22, 3011, 47, 93, 42, 166, 101, 53, 108, 29, 66, 144, 353, 8, 28, 6, 66, 221, 65, 347, 5, 52, 156, 146, 252, 14, 16, 6, 87, 2799, 6646, 18, 98, 13, 657, 98, 1996, 11, 4, 705, 5, 440, 36, 70, 4392, 68, 22, 231]"
            ]
          },
          "metadata": {},
          "execution_count": 10
        }
      ]
    },
    {
      "cell_type": "markdown",
      "metadata": {
        "id": "Jy0FnaWtVcYf"
      },
      "source": [
        "## <font color = \"000080\">Codificando as críticas</font>\n",
        "\n",
        "Como as críticas de filmes são codificadas numericamente (já que os modelos `Keras` trabalham com dados numéricos), para visualizar o texto original, é preciso conhecer a palavra à qual cada número corresponde.\n",
        "\n",
        "O conjunto de dados IMDb de `Keras` fornece um dicionário que mapeia as palavras para os seus índices. O valor correspondente de cada palavra é sua classificação de frequência entre todas as palavras em todo o conjunto de críticas (*reviews*).\n",
        "\n",
        "Assim, a palavra com a classificação 1 é a palavra que ocorre com mais frequência (calculada pela equipe `Keras` desde o conjunto de dados), a palavra com a classificação 2 é a segunda palavra que ocorre com mais frequência e assim por diante."
      ]
    },
    {
      "cell_type": "markdown",
      "metadata": {
        "id": "1LulDJtWVcYf"
      },
      "source": [
        "Observações:\n",
        "\n",
        "Embora os valores do dicionário iniciem com 1 como a palavra que ocorre com mais frequência, em cada revisão codificada (como `X_treino[123]` mostrado anteriormente), os valores de classificação são deslocados em 3 unidades.\n",
        "\n",
        "Portanto, qualquer crítica que contenha a palavra que ocorre com mais frequência terá o valor 4 sempre que essa palavra aparecer na crítica. `Keras` reserva os valores 0, 1 e 2 em cada crítica codificada para os seguintes propósitos:\n",
        "\n",
        "- O valor 0 em uma crítica representa **preenchimento** (*padding*). Os algoritmos de aprendizado profundo em `Keras` esperam que todas as amostras de treinamento tenham as mesmas dimensões, portanto, algumas críticas podem precisar ser expandidas para um determinado comprimento e outras encurtadas para esse comprimento. As críticas que precisam ser expandidas são preenchidas com 0s.\n",
        "\n",
        "- O valor 1 representa um *token* que o `Keras` usa internamente para indicar o início de uma sequência de texto para fins de aprendizado.\n",
        "\n",
        "- O valor 2 em uma crítica representa uma palavra desconhecida: normalmente uma palavra que não foi carregada porque você chamou `load_data` com o argumento `numero_de_palavras`. Nesse caso, qualquer crítica que contenha palavras com classificação de frequência maior que `numero_de_palavras` terá os valores numéricos dessas palavras substituídos por 2. Isso tudo é tratado por `Keras` quando você carrega os dados."
      ]
    },
    {
      "cell_type": "markdown",
      "metadata": {
        "id": "gvg2icCFVcYf"
      },
      "source": [
        "## <font color = \"000080\">Decodificando as críticas</font>\n",
        "\n",
        "Com o deslocamento em três unidades na codificação, é preciso tratá-lo na decodificação da crítica."
      ]
    },
    {
      "cell_type": "code",
      "metadata": {
        "id": "nTB9_nMAVcYf"
      },
      "source": [
        "# Capturar os índices das palavras com get_word_index\n",
        "palavra_a_indice = imdb.get_word_index()"
      ],
      "execution_count": null,
      "outputs": []
    },
    {
      "cell_type": "code",
      "metadata": {
        "colab": {
          "base_uri": "https://localhost:8080/"
        },
        "id": "M_fnkoJoVcYg",
        "outputId": "b024a4cd-c58c-4bf3-c571-1f1157f6edd6"
      },
      "source": [
        "# 'great' deve aparecer bastante (crítica positiva)\n",
        "palavra_a_indice['tarantino']"
      ],
      "execution_count": 12,
      "outputs": [
        {
          "output_type": "execute_result",
          "data": {
            "text/plain": [
              "5733"
            ]
          },
          "metadata": {},
          "execution_count": 12
        }
      ]
    },
    {
      "cell_type": "markdown",
      "metadata": {
        "id": "4MgYPhTKVcYg"
      },
      "source": [
        "De acordo com a saída, 'great' é a 84a palavra mais frequente do conjunto de dados.\n",
        "Se procurarmos uma palavra que não está no dicionário, será lançada uma exceção.\n",
        "\n",
        "Para transformar as classificações de frequência em palavras, primeiro invertemos o mapeamento do dicionário `palavra_a_indice`, para que possamos procurar cada palavra por sua classificação de frequência."
      ]
    },
    {
      "cell_type": "code",
      "metadata": {
        "id": "Qq5VAvWSVcYh"
      },
      "source": [
        "indice_a_palavra = \\\n",
        "    {indice: palavra for (palavra, indice) in palavra_a_indice.items()}"
      ],
      "execution_count": 13,
      "outputs": []
    },
    {
      "cell_type": "markdown",
      "metadata": {
        "id": "8zHjRxVgVcYh"
      },
      "source": [
        "Vejamos as 50 palavras mais frequentes no dicionário `indice_a_palavra`:"
      ]
    },
    {
      "cell_type": "code",
      "metadata": {
        "scrolled": true,
        "colab": {
          "base_uri": "https://localhost:8080/"
        },
        "id": "ur0ZwRVqVcYh",
        "outputId": "e74bdfaf-f638-4808-e204-6821236cb016"
      },
      "source": [
        "[indice_a_palavra[i] for i in range(1, 51)]"
      ],
      "execution_count": 14,
      "outputs": [
        {
          "output_type": "execute_result",
          "data": {
            "text/plain": [
              "['the', 'and', 'a', 'of', 'to', 'is', 'br', 'in', 'it', 'i', 'this', 'that', 'was', 'as', 'for', 'with', 'movie', 'but', 'film', 'on', 'not', 'you', 'are', 'his', 'have', 'he', 'be', 'one', 'all', 'at', 'by', 'an', 'they', 'who', 'so', 'from', 'like', 'her', 'or', 'just', 'about', \"it's\", 'out', 'has', 'if', 'some', 'there', 'what', 'good', 'more']"
            ]
          },
          "metadata": {},
          "execution_count": 14
        }
      ]
    },
    {
      "cell_type": "markdown",
      "metadata": {
        "id": "owxPmiWSVcYh"
      },
      "source": [
        "Agora, podemos decodificar uma crítica. Usamos o método `get` de dois argumentos do dicionário `indice_a_palavra`, em vez do operador `[]` para obter valor para cada chave. \n",
        "\n",
        "Se um valor não estiver no dicionário, o método `get` retornará seu segundo argumento, em vez de gerar uma exceção. O argumento `i - 3` é responsável pelo deslocamento nas críticas codificadas das classificações de frequência de cada crítica.\n",
        "\n",
        "Quando os valores reservados de `Keras` de 0 a 2 aparecerem em uma crítica, retorna `'?'`; caso contrário, `get` retorna a palavra com a chave `i - 3` no dicionário `indice_a_palavra`."
      ]
    },
    {
      "cell_type": "code",
      "metadata": {
        "colab": {
          "base_uri": "https://localhost:8080/",
          "height": 105
        },
        "id": "s6_tQIX_VcYh",
        "outputId": "145ca1fb-49b2-4113-82a7-8bf72cd42bd4"
      },
      "source": [
        "' '.join([indice_a_palavra.get(i - 3, '?') for i in X_treino[123]])"
      ],
      "execution_count": 15,
      "outputs": [
        {
          "output_type": "execute_result",
          "data": {
            "text/plain": [
              "\"? a friend of mine was in the cast as a ? agent a non speaking part as i recall he brought it over on dvd so i could see it it was interesting but very much felt like an amateur film a well made amateur film though really boring and poorly written it was probably fun to make and be involved in but it definitely didn't deserve any kind of wide release maybe in ? they'd enjoy it but this california girl was bored and honestly kind of embarrassed for my friend's involvement br br if this film maker has made or makes any more films he really should try to have a really interesting story line and good actors i'm sure this was a great learning tool for them i wish them luck in the future and hope they can improve their film making\""
            ],
            "application/vnd.google.colaboratory.intrinsic+json": {
              "type": "string"
            }
          },
          "metadata": {},
          "execution_count": 15
        }
      ]
    },
    {
      "cell_type": "code",
      "metadata": {
        "colab": {
          "base_uri": "https://localhost:8080/"
        },
        "id": "8itaxZe-VcYi",
        "outputId": "1cc08ec8-908d-419f-e4c6-76ec342c6567"
      },
      "source": [
        "y_treino[123]"
      ],
      "execution_count": 16,
      "outputs": [
        {
          "output_type": "execute_result",
          "data": {
            "text/plain": [
              "0"
            ]
          },
          "metadata": {},
          "execution_count": 16
        }
      ]
    },
    {
      "cell_type": "markdown",
      "metadata": {
        "id": "eSTJHaugVcYi"
      },
      "source": [
        "## <font color = \"000080\">3. Preparação dos dados</font>\n",
        "\n",
        "O número de palavras por críticas varia, mas o `Keras` exige que todas as amostras tenham as mesmas dimensões. Portanto, precisamos executar alguma preparação de dados. \n",
        "\n",
        "Nesse caso, precisamos restringir cada crítica ao mesmo número de palavras. Algumas revisões precisarão ser preenchidas com dados adicionais e outras precisarão ser truncadas.\n",
        "\n",
        "A função `pad_sequences` remodela as amostras de `X_treino` (as suas linhas) para o número de atributos especificados pelo argumento `maxlen(200)` e retorna um *array* bidimensional."
      ]
    },
    {
      "cell_type": "code",
      "metadata": {
        "id": "eQMMTRWsVcYj"
      },
      "source": [
        "# Atribuir 200 a variável\n",
        "palavras_por_review = 200"
      ],
      "execution_count": 17,
      "outputs": []
    },
    {
      "cell_type": "code",
      "metadata": {
        "id": "eYkZqAvPVcYj"
      },
      "source": [
        "from tensorflow.keras.preprocessing.sequence import pad_sequences"
      ],
      "execution_count": 18,
      "outputs": []
    },
    {
      "cell_type": "code",
      "metadata": {
        "id": "5V-8EQiyVcYj"
      },
      "source": [
        "# Utilizar a função pad_sequences para remodelar as amostras em X_treino\n",
        "X_treino = pad_sequences(X_treino, maxlen=palavras_por_review)"
      ],
      "execution_count": 19,
      "outputs": []
    },
    {
      "cell_type": "markdown",
      "metadata": {
        "id": "jDD3rGidVcYj"
      },
      "source": [
        "Verificando o novo formato de `X_treino`:"
      ]
    },
    {
      "cell_type": "code",
      "metadata": {
        "colab": {
          "base_uri": "https://localhost:8080/"
        },
        "id": "zyiB5ySRVcYj",
        "outputId": "2335ee8a-31c6-4947-f030-906674f5ab6d"
      },
      "source": [
        "X_treino.shape"
      ],
      "execution_count": 20,
      "outputs": [
        {
          "output_type": "execute_result",
          "data": {
            "text/plain": [
              "(500, 200)"
            ]
          },
          "metadata": {},
          "execution_count": 20
        }
      ]
    },
    {
      "cell_type": "code",
      "metadata": {
        "id": "blFpGOseVcYj"
      },
      "source": [
        "# Utilizar novamente a função pad_sequences\n",
        "X_teste = pad_sequences(X_teste, maxlen=palavras_por_review)"
      ],
      "execution_count": 21,
      "outputs": []
    },
    {
      "cell_type": "code",
      "metadata": {
        "colab": {
          "base_uri": "https://localhost:8080/"
        },
        "id": "lLtJTYc3VcYj",
        "outputId": "b245d39b-724a-42d6-de2c-9dd8cf4c26a2"
      },
      "source": [
        "# Verificar o formato de X_teste\n",
        "X_teste.shape"
      ],
      "execution_count": 22,
      "outputs": [
        {
          "output_type": "execute_result",
          "data": {
            "text/plain": [
              "(500, 200)"
            ]
          },
          "metadata": {},
          "execution_count": 22
        }
      ]
    },
    {
      "cell_type": "markdown",
      "metadata": {
        "id": "lHdlabBhVcYk"
      },
      "source": [
        "### <font color = \"000080\">Dividindo o conjunto de dados</font>\n",
        "\n",
        "Em vez de usar o argumento `validation_split` do método `fit` para indicar qual porcentagem dos nossos dados de treinamento devem ser reservados para validar o modelo enquanto ele treina, dividiremos manualmente as 25.000 amostras de teste em 20.000 amostras e 5.000 amostras de validação."
      ]
    },
    {
      "cell_type": "code",
      "metadata": {
        "id": "34d96MrMVcYk"
      },
      "source": [
        "from sklearn.model_selection import train_test_split\n",
        "\n",
        "# Utilizar a função train_test_split\n",
        "X_teste, X_val, y_teste, y_val = train_test_split(\n",
        "    X_teste, y_teste, random_state=11, test_size=0.20)"
      ],
      "execution_count": 23,
      "outputs": []
    },
    {
      "cell_type": "code",
      "metadata": {
        "colab": {
          "base_uri": "https://localhost:8080/"
        },
        "id": "6tICxX87VcYk",
        "outputId": "3f6a90cd-87bf-45f1-acd4-b2a82d4bb79a"
      },
      "source": [
        "# Verificar o formato de X_teste\n",
        "X_teste.shape"
      ],
      "execution_count": 24,
      "outputs": [
        {
          "output_type": "execute_result",
          "data": {
            "text/plain": [
              "(400, 200)"
            ]
          },
          "metadata": {},
          "execution_count": 24
        }
      ]
    },
    {
      "cell_type": "code",
      "metadata": {
        "colab": {
          "base_uri": "https://localhost:8080/"
        },
        "id": "EBvHqRsjVcYk",
        "outputId": "290ad52e-03a0-4da5-d4cd-3c6ebb953079"
      },
      "source": [
        "# Verificar o formato de X_val\n",
        "X_val.shape"
      ],
      "execution_count": 25,
      "outputs": [
        {
          "output_type": "execute_result",
          "data": {
            "text/plain": [
              "(100, 200)"
            ]
          },
          "metadata": {},
          "execution_count": 25
        }
      ]
    },
    {
      "cell_type": "markdown",
      "metadata": {
        "id": "NmZdXblTVcYk"
      },
      "source": [
        "## <font color = \"000080\">4. Criando a rede</font>\n",
        "\n",
        "Com os dados preparados, é hora de criar a rede!<br>Começaremos com o módulo `tensorflow.keras.models` e seu modelo `Sequential`.<br>Assim, criaremos uma rede *feed-forward* a qual sua saída (em uma camada) é entrada para outra camada."
      ]
    },
    {
      "cell_type": "code",
      "metadata": {
        "id": "bI004jdyVcYk"
      },
      "source": [
        "from tensorflow.keras.models import Sequential"
      ],
      "execution_count": 26,
      "outputs": []
    },
    {
      "cell_type": "code",
      "metadata": {
        "id": "IoqS8TFsVcYk"
      },
      "source": [
        "rnn = Sequential()"
      ],
      "execution_count": 27,
      "outputs": []
    },
    {
      "cell_type": "markdown",
      "metadata": {
        "id": "bc4R9K65VcYk"
      },
      "source": [
        "### <font color = \"000080\">Adicionando camadas</font>"
      ]
    },
    {
      "cell_type": "code",
      "metadata": {
        "id": "kT4dIvG5VcYk"
      },
      "source": [
        "# Importar as classes Dense e LSTM\n",
        "from tensorflow.keras.layers import Dense, LSTM"
      ],
      "execution_count": 28,
      "outputs": []
    },
    {
      "cell_type": "code",
      "metadata": {
        "id": "Q0xgVhrbVcYk"
      },
      "source": [
        "# Importar a classe Embedding\n",
        "from tensorflow.keras.layers import Embedding"
      ],
      "execution_count": 29,
      "outputs": []
    },
    {
      "cell_type": "markdown",
      "metadata": {
        "id": "Pkh8NURDVcYk"
      },
      "source": [
        "Nosso modelo vai processar 10.000 palavras únicas, então precisamos de um `array` 10.000x10.000 para representar todas as palavras. São 100.000 elementos os quais, em sua maioria, prenchidos com valor zero. Assim, não compensa usar `one-hot encoding` nesse caso (converter rótulos de inteiros para categóricos).\n",
        "\n",
        "Se processarmos mais de 88.000 palavras únicas no conjunto de dados total, precisaremos de um `array` de quase oito bilhões de elementos.\n",
        "\n",
        "Para reduzir a dimensionalidade, as RNNs que processam sequências de texto geralmente começam com uma camada de incorporação (*embedding*) que codifica cada palavra em uma representação de vetor denso mais compacta. Os vetores produzidos pela camada de incorporação também capturam o contexto da palavra, ou seja, como uma determinada palavra se relaciona com as palavras ao seu redor. Portanto, a camada de incorporação permite que a RNN aprenda relacionamentos de palavras entre os dados de treinamento."
      ]
    },
    {
      "cell_type": "code",
      "metadata": {
        "id": "zvNzRMnRVcYl"
      },
      "source": [
        "# adicionando camada 'Embedding'\n",
        "rnn.add(Embedding(input_dim=numero_de_palavras, output_dim=128,\n",
        "                  input_length=palavras_por_review))"
      ],
      "execution_count": 30,
      "outputs": []
    },
    {
      "cell_type": "markdown",
      "metadata": {
        "id": "06FmU6hpVcYk"
      },
      "source": [
        "Argumentos de `Embedding`:\n",
        "- **input_dim**: número de palavras únicas\n",
        "- **output_dim**: tamanho de cada palavra incorporada\n",
        "- **input_length**: número de palavras em cada amostra"
      ]
    },
    {
      "cell_type": "code",
      "metadata": {
        "colab": {
          "base_uri": "https://localhost:8080/"
        },
        "id": "rry-Nn76VcYl",
        "outputId": "e990f715-d67b-4400-cf47-2a0e082794ed"
      },
      "source": [
        "# adicionando camada 'LSTM'\n",
        "rnn.add(LSTM(units=128, dropout=0.2, recurrent_dropout=0.2))"
      ],
      "execution_count": 31,
      "outputs": [
        {
          "output_type": "stream",
          "name": "stdout",
          "text": [
            "WARNING:tensorflow:Layer lstm will not use cuDNN kernels since it doesn't meet the criteria. It will use a generic GPU kernel as fallback when running on GPU.\n"
          ]
        }
      ]
    },
    {
      "cell_type": "markdown",
      "metadata": {
        "id": "pE_971nFVcYl"
      },
      "source": [
        "Argumentos de `LSTM`:\n",
        "- **units**: número de neurônios na camada\n",
        "- **dropout**: a porcentagem de neurônios que serão desativados aleatoriamente ao processar as entradas e saídas da camada\n",
        "- **recurrent_dropout**: porcentagem de neurônios que são desativados aleatoriamente quando a saída da camada é inserida novamente na camada para permitir que a rede aprenda com o que viu anteriormente"
      ]
    },
    {
      "cell_type": "markdown",
      "metadata": {
        "id": "xomrIv98VcYl"
      },
      "source": [
        "Agora vamos pegar a saída da camada LSTM e reduzi-la a um resultado, indicando se uma revisão é positiva ou negativa, portanto, o valor 1 para o argumento das unidades.\n",
        "\n",
        "Usamos a função de ativação `sigmoide`, que é preferida para classificação binária. Ela reduz valores arbitrários no intervalo de 0 a 1, produzindo uma probabilidade."
      ]
    },
    {
      "cell_type": "code",
      "metadata": {
        "id": "90tX83yfVcYl"
      },
      "source": [
        "rnn.add(Dense(units=1, activation='sigmoid'))"
      ],
      "execution_count": 32,
      "outputs": []
    },
    {
      "cell_type": "markdown",
      "metadata": {
        "id": "SZDf8gD9VcYl"
      },
      "source": [
        "### <font color = \"000080\">Finalizando o modelo.</font>\n",
        "\n",
        "Agora falta completar o modelo da rede chamando o método `compile`.<br>\n",
        "Utilizaremos a otimização `adam`, que é um método de descida de gradiente estocástico, baseado na estimativa adaptativa de momentos de primeira e segunda ordem.<br>\n",
        "Para cálculo da taxa de erro, usaremos `binary_crossentropy` já que temos duas possíveis saídas.<br>\n",
        "Em `metrics`, usamos `accuracy` que simplesmente calcula com que frequência as previsões são iguais aos rótulos."
      ]
    },
    {
      "cell_type": "code",
      "metadata": {
        "id": "41CwqKAmVcYm"
      },
      "source": [
        "rnn.compile(optimizer='adam',\n",
        "            loss='binary_crossentropy', \n",
        "            metrics=['accuracy'])"
      ],
      "execution_count": 33,
      "outputs": []
    },
    {
      "cell_type": "markdown",
      "metadata": {
        "id": "rdogJvDFVcYm"
      },
      "source": [
        "A seguir, um resumo do nosso modelo.\n",
        "\n",
        "O grande número de parâmetros treináveis vem principalmente do número de palavras no vocabulário (carregamos 10.000) vezes o número de neurônios na saída da camada de incorporação (128)."
      ]
    },
    {
      "cell_type": "code",
      "metadata": {
        "scrolled": true,
        "colab": {
          "base_uri": "https://localhost:8080/"
        },
        "id": "U0BrXsTeVcYm",
        "outputId": "858e9689-c67a-45fb-b3c2-f2ea8e3b6e55"
      },
      "source": [
        "rnn.summary()"
      ],
      "execution_count": 34,
      "outputs": [
        {
          "output_type": "stream",
          "name": "stdout",
          "text": [
            "Model: \"sequential\"\n",
            "_________________________________________________________________\n",
            " Layer (type)                Output Shape              Param #   \n",
            "=================================================================\n",
            " embedding (Embedding)       (None, 200, 128)          1280000   \n",
            "                                                                 \n",
            " lstm (LSTM)                 (None, 128)               131584    \n",
            "                                                                 \n",
            " dense (Dense)               (None, 1)                 129       \n",
            "                                                                 \n",
            "=================================================================\n",
            "Total params: 1,411,713\n",
            "Trainable params: 1,411,713\n",
            "Non-trainable params: 0\n",
            "_________________________________________________________________\n"
          ]
        }
      ]
    },
    {
      "cell_type": "markdown",
      "metadata": {
        "id": "N6jgjmvrVcYm"
      },
      "source": [
        "## <font color = \"000080\">5. Treinando o modelo</font>\n",
        "\n",
        "Após decidirmos a arquitetura do modelo (número de camadas ocultas, funções de ativação etc), a fase de compilação, agora vamos a próxima fase: treinamento.<br>\n",
        "O método `fit` recebe nos dois primeiros argumentos o conjunto de treinamento e o objetivo (*target*).<br>\n",
        "`epochs` indica o número de épocas de treinamento.<br>\n",
        "`batch_size` indica o número de amostras para processar a cada época. Geralmente potências de 2, desde 32 a 512.<br>\n",
        "`validation_data` para especificar uma tupla contendo *arrays* de amostras e rótulos de destino."
      ]
    },
    {
      "cell_type": "code",
      "metadata": {
        "scrolled": true,
        "colab": {
          "base_uri": "https://localhost:8080/"
        },
        "id": "i4LoEfAVVcYm",
        "outputId": "be177ad6-6047-4e18-94f8-c1ad6800b555"
      },
      "source": [
        "historico = rnn.fit(X_treino, y_treino, epochs=5, batch_size=32, validation_data=(X_val, y_val))"
      ],
      "execution_count": 35,
      "outputs": [
        {
          "output_type": "stream",
          "name": "stdout",
          "text": [
            "Epoch 1/5\n",
            "16/16 [==============================] - 18s 803ms/step - loss: 0.6926 - accuracy: 0.5300 - val_loss: 0.6905 - val_accuracy: 0.5600\n",
            "Epoch 2/5\n",
            "16/16 [==============================] - 14s 848ms/step - loss: 0.6610 - accuracy: 0.7260 - val_loss: 0.6690 - val_accuracy: 0.6400\n",
            "Epoch 3/5\n",
            "16/16 [==============================] - 12s 765ms/step - loss: 0.5549 - accuracy: 0.8600 - val_loss: 0.6326 - val_accuracy: 0.6200\n",
            "Epoch 4/5\n",
            "16/16 [==============================] - 12s 769ms/step - loss: 0.3027 - accuracy: 0.9320 - val_loss: 0.7828 - val_accuracy: 0.5900\n",
            "Epoch 5/5\n",
            "16/16 [==============================] - 12s 776ms/step - loss: 0.1160 - accuracy: 0.9700 - val_loss: 0.8626 - val_accuracy: 0.6600\n"
          ]
        }
      ]
    },
    {
      "cell_type": "code",
      "metadata": {
        "id": "T1T4JFiOVcYm",
        "colab": {
          "base_uri": "https://localhost:8080/"
        },
        "outputId": "029a5837-07ab-4a7c-bdab-97575a40a9f6"
      },
      "source": [
        "# avaliar os resultados com evaluate\n",
        "resultados = rnn.evaluate(X_teste, y_teste)"
      ],
      "execution_count": 36,
      "outputs": [
        {
          "output_type": "stream",
          "name": "stdout",
          "text": [
            "13/13 [==============================] - 1s 53ms/step - loss: 0.6843 - accuracy: 0.7100\n"
          ]
        }
      ]
    },
    {
      "cell_type": "code",
      "metadata": {
        "id": "b-UI9MdrVcYm",
        "colab": {
          "base_uri": "https://localhost:8080/"
        },
        "outputId": "3260def3-34c5-44cc-ee0b-bec4780e83f1"
      },
      "source": [
        "resultados"
      ],
      "execution_count": 37,
      "outputs": [
        {
          "output_type": "execute_result",
          "data": {
            "text/plain": [
              "[0.6842907667160034, 0.7099999785423279]"
            ]
          },
          "metadata": {},
          "execution_count": 37
        }
      ]
    },
    {
      "cell_type": "code",
      "metadata": {
        "id": "BhJCMRLkGELs",
        "colab": {
          "base_uri": "https://localhost:8080/"
        },
        "outputId": "17aad7f3-6c9f-476f-f139-1ce0f5f7adb2"
      },
      "source": [
        "# avaliar os resultados com evaluate e retornar a tupla (erro, acuracia)\n",
        "# para os gráficos\n",
        "erro, acuracia = rnn.evaluate(X_teste, y_teste)"
      ],
      "execution_count": 38,
      "outputs": [
        {
          "output_type": "stream",
          "name": "stdout",
          "text": [
            "13/13 [==============================] - 1s 53ms/step - loss: 0.6843 - accuracy: 0.7100\n"
          ]
        }
      ]
    },
    {
      "cell_type": "code",
      "metadata": {
        "id": "B2lXoTZeGH-A",
        "colab": {
          "base_uri": "https://localhost:8080/"
        },
        "outputId": "9a558acf-79fb-4e17-bfae-8beb46b462e6"
      },
      "source": [
        "# Capturar os rótulos do treinamento: 'loss', 'accuracy', 'val_loss' e 'val_accuracy'\n",
        "# para plotar os gráficos de acurácia e perdas\n",
        "import matplotlib.pyplot as plt\n",
        "\n",
        "hist_dicio = historico.history\n",
        "hist_dicio.keys()\n",
        "\n"
      ],
      "execution_count": 39,
      "outputs": [
        {
          "output_type": "execute_result",
          "data": {
            "text/plain": [
              "dict_keys(['loss', 'accuracy', 'val_loss', 'val_accuracy'])"
            ]
          },
          "metadata": {},
          "execution_count": 39
        }
      ]
    },
    {
      "cell_type": "code",
      "metadata": {
        "id": "ANGF-k-SGM6c",
        "colab": {
          "base_uri": "https://localhost:8080/",
          "height": 314
        },
        "outputId": "4cf33da4-b58e-4121-d033-ad7f842e39f1"
      },
      "source": [
        "# plotar o gráfico de perdas de treinamento e validação\n",
        "# epocas vs loss ; epocas vs val_loss\n",
        "plt.clf()\n",
        "\n",
        "acuracia = hist_dicio['accuracy']\n",
        "acuracia_val = hist_dicio['val_accuracy']\n",
        "perda = hist_dicio['loss']\n",
        "perda_val = hist_dicio['val_loss']\n",
        "\n",
        "epocas = range(1, len(acuracia) + 1)\n",
        "\n",
        "plt.plot(epocas, perda, 'bo', label=\"Treinamento (perda)\")\n",
        "plt.plot(epocas, perda_val, 'b', label=\"Validação (perda)\")\n",
        "plt.title(\"Perda em treinamento e validação\")\n",
        "plt.xlabel(\"Épocas\")\n",
        "plt.ylabel(\"Perda\")\n",
        "plt.legend()"
      ],
      "execution_count": 40,
      "outputs": [
        {
          "output_type": "execute_result",
          "data": {
            "text/plain": [
              "<matplotlib.legend.Legend object at 0x7f78292e3950>"
            ]
          },
          "metadata": {},
          "execution_count": 40
        },
        {
          "output_type": "display_data",
          "data": {
            "text/plain": [
              "<Figure size 432x288 with 1 Axes>"
            ],
            "image/png": "[encoded data removed]"
          },
          "metadata": {
            "needs_background": "light"
          }
        }
      ]
    },
    {
      "cell_type": "code",
      "metadata": {
        "id": "yls0P3xsGQDi",
        "colab": {
          "base_uri": "https://localhost:8080/",
          "height": 314
        },
        "outputId": "bdf753e5-2216-4637-86d1-4e912f34319c"
      },
      "source": [
        "# plotar o gráfico de acurácia de treinamento e validação\n",
        "# epocas vs accuracy ; epocas vs val_accuracy\n",
        "plt.clf()\n",
        "plt.plot(epocas, acuracia, 'bo', label=\"accurrancy \")\n",
        "plt.plot(epocas, acuracia_val, 'b', label=\"val_accuracy\")\n",
        "plt.title(\"Acurácia do treino e validação\")\n",
        "plt.xlabel(\"Épocas\")\n",
        "plt.ylabel(\"Acurácia\")\n",
        "plt.legend()"
      ],
      "execution_count": 41,
      "outputs": [
        {
          "output_type": "execute_result",
          "data": {
            "text/plain": [
              "<matplotlib.legend.Legend object at 0x7f7829271e50>"
            ]
          },
          "metadata": {},
          "execution_count": 41
        },
        {
          "output_type": "display_data",
          "data": {
            "text/plain": [
              "<Figure size 432x288 with 1 Axes>"
            ],
            "image/png": "[encoded data removed]"
          },
          "metadata": {
            "needs_background": "light"
          }
        }
      ]
    },
    {
      "cell_type": "markdown",
      "metadata": {
        "id": "V1RBVwxbVcYm"
      },
      "source": [
        "## <font color = \"000080\">Considerações finais</font>\n",
        "\n",
        "Apresentamos redes neurais recorrentes (RNNs) para processar texto em frases.\n",
        "Usamos uma RNN com o conjunto de dados de resenhas de filmes da IMDb para realizar a classificação binária, prevendo se o sentimento de cada resenha era positivo ou negativo."
      ]
    },
    {
      "cell_type": "markdown",
      "metadata": {
        "id": "6BSQv3qzVcYm"
      },
      "source": [
        "## <font color = \"000080\">Referências</font>\n",
        "\n",
        "DEITEL, P. e DEITEL, H., Intro to Python for computer science and data science. Pearson, 2020."
      ]
    },
    {
      "cell_type": "code",
      "metadata": {
        "id": "xb0nN_W_VcYm"
      },
      "source": [
        "# Adaptado de:\n",
        "#\n",
        "##########################################################################\n",
        "# (C) Copyright 2019 by Deitel & Associates, Inc. and                    #\n",
        "# Pearson Education, Inc. All Rights Reserved.                           #\n",
        "#                                                                        #\n",
        "# DISCLAIMER: The authors and publisher of this book have used their     #\n",
        "# best efforts in preparing the book. These efforts include the          #\n",
        "# development, research, and testing of the theories and programs        #\n",
        "# to determine their effectiveness. The authors and publisher make       #\n",
        "# no warranty of any kind, expressed or implied, with regard to these    #\n",
        "# programs or to the documentation contained in these books. The authors #\n",
        "# and publisher shall not be liable in any event for incidental or       #\n",
        "# consequential damages in connection with, or arising out of, the       #\n",
        "# furnishing, performance, or use of these programs.                     #\n",
        "##########################################################################"
      ],
      "execution_count": null,
      "outputs": []
    }
  ]
}